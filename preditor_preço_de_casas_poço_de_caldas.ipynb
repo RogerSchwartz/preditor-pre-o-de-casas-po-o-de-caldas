{
  "nbformat": 4,
  "nbformat_minor": 0,
  "metadata": {
    "colab": {
      "provenance": [],
      "authorship_tag": "ABX9TyPBmJdZ3jvNBEB1K5Oivu/p",
      "include_colab_link": true
    },
    "kernelspec": {
      "name": "python3",
      "display_name": "Python 3"
    },
    "language_info": {
      "name": "python"
    }
  },
  "cells": [
    {
      "cell_type": "markdown",
      "metadata": {
        "id": "view-in-github",
        "colab_type": "text"
      },
      "source": [
        "<a href=\"https://colab.research.google.com/github/RogerSchwartz/preditor-pre-o-de-casas-po-o-de-caldas/blob/main/preditor_pre%C3%A7o_de_casas_po%C3%A7o_de_caldas.ipynb\" target=\"_parent\"><img src=\"https://colab.research.google.com/assets/colab-badge.svg\" alt=\"Open In Colab\"/></a>"
      ]
    },
    {
      "cell_type": "code",
      "execution_count": null,
      "metadata": {
        "id": "xpHUxltLGLjV"
      },
      "outputs": [],
      "source": [
        "import os\n",
        "import tarfile\n",
        "from six.moves import urllib\n",
        "HOUSING_PATH = os.path.join(\"datasets\", \"data\")"
      ]
    },
    {
      "cell_type": "code",
      "source": [
        "import pandas as pd\n",
        "def load_housing_data(housing_path=HOUSING_PATH):\n",
        "    csv_path = os.path.join(housing_path, \"imoveis_pocos.csv\")\n",
        "    return pd.read_csv(csv_path)"
      ],
      "metadata": {
        "id": "ASwh6wI_G2na"
      },
      "execution_count": null,
      "outputs": []
    },
    {
      "cell_type": "code",
      "source": [
        "housing = load_housing_data()\n",
        "housing = housing[housing.iptu.notnull()]\n",
        "housing = housing.reset_index(drop=True)\n",
        "housing.head()"
      ],
      "metadata": {
        "colab": {
          "base_uri": "https://localhost:8080/",
          "height": 369
        },
        "id": "61AXtADdLWPM",
        "outputId": "6dc9c383-8f6e-48fb-a945-1115bc42a1aa"
      },
      "execution_count": null,
      "outputs": [
        {
          "output_type": "execute_result",
          "data": {
            "text/plain": [
              "       valor       classe  dormitorios  banheiros  vagas_na_garagem  \\\n",
              "0   600000.0  Apartamento          3.0        2.0               2.0   \n",
              "1   600000.0  Apartamento          2.0        2.0               1.0   \n",
              "2   265000.0  Apartamento          2.0        1.0               1.0   \n",
              "3   140000.0  Apartamento          2.0        1.0               1.0   \n",
              "4  2200000.0         Casa          4.0        4.0               4.0   \n",
              "\n",
              "  tipo_do_imovel              bairro  area_terreno  area_util  condominio  \\\n",
              "0         Padrão              centro           NaN       91.0       350.0   \n",
              "1         Padrão              centro           NaN       75.0       400.0   \n",
              "2         Padrão          vila togni           NaN       46.0       230.0   \n",
              "3         Padrão           dom bosco           NaN       47.0       162.0   \n",
              "4         Padrão  jardim dos estados         703.0      574.0         NaN   \n",
              "\n",
              "   ...  elevador_social  suites  apartamento_por_andar  quantidade_de_andares  \\\n",
              "0  ...              1.0     1.0                    NaN                    NaN   \n",
              "1  ...              1.0     1.0                    NaN                    NaN   \n",
              "2  ...              NaN     NaN                    8.0                    9.0   \n",
              "3  ...              NaN     NaN                    4.0                    4.0   \n",
              "4  ...              NaN     2.0                    NaN                    NaN   \n",
              "\n",
              "   elevador_de_servico  salao_de_festa    iptu        lat       long  \\\n",
              "0                  1.0             0.0  208.00 -21.788380 -46.566182   \n",
              "1                  1.0             0.0  186.00 -21.788380 -46.566182   \n",
              "2                  NaN             NaN   84.12 -21.780299 -46.597623   \n",
              "3                  NaN             NaN   35.00 -21.793968 -46.534471   \n",
              "4                  NaN             NaN  250.00 -21.782685 -46.559694   \n",
              "\n",
              "   dist_centro  \n",
              "0     0.000000  \n",
              "1     0.000000  \n",
              "2     3.368500  \n",
              "3     3.332541  \n",
              "4     0.921824  \n",
              "\n",
              "[5 rows x 22 columns]"
            ],
            "text/html": [
              "\n",
              "  <div id=\"df-2f93dfa5-47a2-40e8-a67b-8c343413ca35\">\n",
              "    <div class=\"colab-df-container\">\n",
              "      <div>\n",
              "<style scoped>\n",
              "    .dataframe tbody tr th:only-of-type {\n",
              "        vertical-align: middle;\n",
              "    }\n",
              "\n",
              "    .dataframe tbody tr th {\n",
              "        vertical-align: top;\n",
              "    }\n",
              "\n",
              "    .dataframe thead th {\n",
              "        text-align: right;\n",
              "    }\n",
              "</style>\n",
              "<table border=\"1\" class=\"dataframe\">\n",
              "  <thead>\n",
              "    <tr style=\"text-align: right;\">\n",
              "      <th></th>\n",
              "      <th>valor</th>\n",
              "      <th>classe</th>\n",
              "      <th>dormitorios</th>\n",
              "      <th>banheiros</th>\n",
              "      <th>vagas_na_garagem</th>\n",
              "      <th>tipo_do_imovel</th>\n",
              "      <th>bairro</th>\n",
              "      <th>area_terreno</th>\n",
              "      <th>area_util</th>\n",
              "      <th>condominio</th>\n",
              "      <th>...</th>\n",
              "      <th>elevador_social</th>\n",
              "      <th>suites</th>\n",
              "      <th>apartamento_por_andar</th>\n",
              "      <th>quantidade_de_andares</th>\n",
              "      <th>elevador_de_servico</th>\n",
              "      <th>salao_de_festa</th>\n",
              "      <th>iptu</th>\n",
              "      <th>lat</th>\n",
              "      <th>long</th>\n",
              "      <th>dist_centro</th>\n",
              "    </tr>\n",
              "  </thead>\n",
              "  <tbody>\n",
              "    <tr>\n",
              "      <th>0</th>\n",
              "      <td>600000.0</td>\n",
              "      <td>Apartamento</td>\n",
              "      <td>3.0</td>\n",
              "      <td>2.0</td>\n",
              "      <td>2.0</td>\n",
              "      <td>Padrão</td>\n",
              "      <td>centro</td>\n",
              "      <td>NaN</td>\n",
              "      <td>91.0</td>\n",
              "      <td>350.0</td>\n",
              "      <td>...</td>\n",
              "      <td>1.0</td>\n",
              "      <td>1.0</td>\n",
              "      <td>NaN</td>\n",
              "      <td>NaN</td>\n",
              "      <td>1.0</td>\n",
              "      <td>0.0</td>\n",
              "      <td>208.00</td>\n",
              "      <td>-21.788380</td>\n",
              "      <td>-46.566182</td>\n",
              "      <td>0.000000</td>\n",
              "    </tr>\n",
              "    <tr>\n",
              "      <th>1</th>\n",
              "      <td>600000.0</td>\n",
              "      <td>Apartamento</td>\n",
              "      <td>2.0</td>\n",
              "      <td>2.0</td>\n",
              "      <td>1.0</td>\n",
              "      <td>Padrão</td>\n",
              "      <td>centro</td>\n",
              "      <td>NaN</td>\n",
              "      <td>75.0</td>\n",
              "      <td>400.0</td>\n",
              "      <td>...</td>\n",
              "      <td>1.0</td>\n",
              "      <td>1.0</td>\n",
              "      <td>NaN</td>\n",
              "      <td>NaN</td>\n",
              "      <td>1.0</td>\n",
              "      <td>0.0</td>\n",
              "      <td>186.00</td>\n",
              "      <td>-21.788380</td>\n",
              "      <td>-46.566182</td>\n",
              "      <td>0.000000</td>\n",
              "    </tr>\n",
              "    <tr>\n",
              "      <th>2</th>\n",
              "      <td>265000.0</td>\n",
              "      <td>Apartamento</td>\n",
              "      <td>2.0</td>\n",
              "      <td>1.0</td>\n",
              "      <td>1.0</td>\n",
              "      <td>Padrão</td>\n",
              "      <td>vila togni</td>\n",
              "      <td>NaN</td>\n",
              "      <td>46.0</td>\n",
              "      <td>230.0</td>\n",
              "      <td>...</td>\n",
              "      <td>NaN</td>\n",
              "      <td>NaN</td>\n",
              "      <td>8.0</td>\n",
              "      <td>9.0</td>\n",
              "      <td>NaN</td>\n",
              "      <td>NaN</td>\n",
              "      <td>84.12</td>\n",
              "      <td>-21.780299</td>\n",
              "      <td>-46.597623</td>\n",
              "      <td>3.368500</td>\n",
              "    </tr>\n",
              "    <tr>\n",
              "      <th>3</th>\n",
              "      <td>140000.0</td>\n",
              "      <td>Apartamento</td>\n",
              "      <td>2.0</td>\n",
              "      <td>1.0</td>\n",
              "      <td>1.0</td>\n",
              "      <td>Padrão</td>\n",
              "      <td>dom bosco</td>\n",
              "      <td>NaN</td>\n",
              "      <td>47.0</td>\n",
              "      <td>162.0</td>\n",
              "      <td>...</td>\n",
              "      <td>NaN</td>\n",
              "      <td>NaN</td>\n",
              "      <td>4.0</td>\n",
              "      <td>4.0</td>\n",
              "      <td>NaN</td>\n",
              "      <td>NaN</td>\n",
              "      <td>35.00</td>\n",
              "      <td>-21.793968</td>\n",
              "      <td>-46.534471</td>\n",
              "      <td>3.332541</td>\n",
              "    </tr>\n",
              "    <tr>\n",
              "      <th>4</th>\n",
              "      <td>2200000.0</td>\n",
              "      <td>Casa</td>\n",
              "      <td>4.0</td>\n",
              "      <td>4.0</td>\n",
              "      <td>4.0</td>\n",
              "      <td>Padrão</td>\n",
              "      <td>jardim dos estados</td>\n",
              "      <td>703.0</td>\n",
              "      <td>574.0</td>\n",
              "      <td>NaN</td>\n",
              "      <td>...</td>\n",
              "      <td>NaN</td>\n",
              "      <td>2.0</td>\n",
              "      <td>NaN</td>\n",
              "      <td>NaN</td>\n",
              "      <td>NaN</td>\n",
              "      <td>NaN</td>\n",
              "      <td>250.00</td>\n",
              "      <td>-21.782685</td>\n",
              "      <td>-46.559694</td>\n",
              "      <td>0.921824</td>\n",
              "    </tr>\n",
              "  </tbody>\n",
              "</table>\n",
              "<p>5 rows × 22 columns</p>\n",
              "</div>\n",
              "      <button class=\"colab-df-convert\" onclick=\"convertToInteractive('df-2f93dfa5-47a2-40e8-a67b-8c343413ca35')\"\n",
              "              title=\"Convert this dataframe to an interactive table.\"\n",
              "              style=\"display:none;\">\n",
              "        \n",
              "  <svg xmlns=\"http://www.w3.org/2000/svg\" height=\"24px\"viewBox=\"0 0 24 24\"\n",
              "       width=\"24px\">\n",
              "    <path d=\"M0 0h24v24H0V0z\" fill=\"none\"/>\n",
              "    <path d=\"M18.56 5.44l.94 2.06.94-2.06 2.06-.94-2.06-.94-.94-2.06-.94 2.06-2.06.94zm-11 1L8.5 8.5l.94-2.06 2.06-.94-2.06-.94L8.5 2.5l-.94 2.06-2.06.94zm10 10l.94 2.06.94-2.06 2.06-.94-2.06-.94-.94-2.06-.94 2.06-2.06.94z\"/><path d=\"M17.41 7.96l-1.37-1.37c-.4-.4-.92-.59-1.43-.59-.52 0-1.04.2-1.43.59L10.3 9.45l-7.72 7.72c-.78.78-.78 2.05 0 2.83L4 21.41c.39.39.9.59 1.41.59.51 0 1.02-.2 1.41-.59l7.78-7.78 2.81-2.81c.8-.78.8-2.07 0-2.86zM5.41 20L4 18.59l7.72-7.72 1.47 1.35L5.41 20z\"/>\n",
              "  </svg>\n",
              "      </button>\n",
              "      \n",
              "  <style>\n",
              "    .colab-df-container {\n",
              "      display:flex;\n",
              "      flex-wrap:wrap;\n",
              "      gap: 12px;\n",
              "    }\n",
              "\n",
              "    .colab-df-convert {\n",
              "      background-color: #E8F0FE;\n",
              "      border: none;\n",
              "      border-radius: 50%;\n",
              "      cursor: pointer;\n",
              "      display: none;\n",
              "      fill: #1967D2;\n",
              "      height: 32px;\n",
              "      padding: 0 0 0 0;\n",
              "      width: 32px;\n",
              "    }\n",
              "\n",
              "    .colab-df-convert:hover {\n",
              "      background-color: #E2EBFA;\n",
              "      box-shadow: 0px 1px 2px rgba(60, 64, 67, 0.3), 0px 1px 3px 1px rgba(60, 64, 67, 0.15);\n",
              "      fill: #174EA6;\n",
              "    }\n",
              "\n",
              "    [theme=dark] .colab-df-convert {\n",
              "      background-color: #3B4455;\n",
              "      fill: #D2E3FC;\n",
              "    }\n",
              "\n",
              "    [theme=dark] .colab-df-convert:hover {\n",
              "      background-color: #434B5C;\n",
              "      box-shadow: 0px 1px 3px 1px rgba(0, 0, 0, 0.15);\n",
              "      filter: drop-shadow(0px 1px 2px rgba(0, 0, 0, 0.3));\n",
              "      fill: #FFFFFF;\n",
              "    }\n",
              "  </style>\n",
              "\n",
              "      <script>\n",
              "        const buttonEl =\n",
              "          document.querySelector('#df-2f93dfa5-47a2-40e8-a67b-8c343413ca35 button.colab-df-convert');\n",
              "        buttonEl.style.display =\n",
              "          google.colab.kernel.accessAllowed ? 'block' : 'none';\n",
              "\n",
              "        async function convertToInteractive(key) {\n",
              "          const element = document.querySelector('#df-2f93dfa5-47a2-40e8-a67b-8c343413ca35');\n",
              "          const dataTable =\n",
              "            await google.colab.kernel.invokeFunction('convertToInteractive',\n",
              "                                                     [key], {});\n",
              "          if (!dataTable) return;\n",
              "\n",
              "          const docLinkHtml = 'Like what you see? Visit the ' +\n",
              "            '<a target=\"_blank\" href=https://colab.research.google.com/notebooks/data_table.ipynb>data table notebook</a>'\n",
              "            + ' to learn more about interactive tables.';\n",
              "          element.innerHTML = '';\n",
              "          dataTable['output_type'] = 'display_data';\n",
              "          await google.colab.output.renderOutput(dataTable, element);\n",
              "          const docLink = document.createElement('div');\n",
              "          docLink.innerHTML = docLinkHtml;\n",
              "          element.appendChild(docLink);\n",
              "        }\n",
              "      </script>\n",
              "    </div>\n",
              "  </div>\n",
              "  "
            ]
          },
          "metadata": {},
          "execution_count": 6
        }
      ]
    },
    {
      "cell_type": "code",
      "source": [
        "housing.info()"
      ],
      "metadata": {
        "colab": {
          "base_uri": "https://localhost:8080/"
        },
        "id": "4s3GstmCLlJ1",
        "outputId": "0f84fbfa-8afd-4371-efff-c826a60fcd17"
      },
      "execution_count": null,
      "outputs": [
        {
          "output_type": "stream",
          "name": "stdout",
          "text": [
            "<class 'pandas.core.frame.DataFrame'>\n",
            "RangeIndex: 172 entries, 0 to 171\n",
            "Data columns (total 22 columns):\n",
            " #   Column                 Non-Null Count  Dtype  \n",
            "---  ------                 --------------  -----  \n",
            " 0   valor                  172 non-null    float64\n",
            " 1   classe                 172 non-null    object \n",
            " 2   dormitorios            164 non-null    float64\n",
            " 3   banheiros              168 non-null    float64\n",
            " 4   vagas_na_garagem       154 non-null    float64\n",
            " 5   tipo_do_imovel         172 non-null    object \n",
            " 6   bairro                 172 non-null    object \n",
            " 7   area_terreno           58 non-null     float64\n",
            " 8   area_util              83 non-null     float64\n",
            " 9   condominio             119 non-null    float64\n",
            " 10  torres                 83 non-null     float64\n",
            " 11  portaria_hrs           39 non-null     float64\n",
            " 12  elevador_social        59 non-null     float64\n",
            " 13  suites                 102 non-null    float64\n",
            " 14  apartamento_por_andar  103 non-null    float64\n",
            " 15  quantidade_de_andares  102 non-null    float64\n",
            " 16  elevador_de_servico    38 non-null     float64\n",
            " 17  salao_de_festa         25 non-null     float64\n",
            " 18  iptu                   172 non-null    float64\n",
            " 19  lat                    126 non-null    float64\n",
            " 20  long                   126 non-null    float64\n",
            " 21  dist_centro            126 non-null    float64\n",
            "dtypes: float64(19), object(3)\n",
            "memory usage: 29.7+ KB\n"
          ]
        }
      ]
    },
    {
      "cell_type": "code",
      "source": [
        "housing[\"classe\"].value_counts()"
      ],
      "metadata": {
        "colab": {
          "base_uri": "https://localhost:8080/"
        },
        "id": "f9phj9-rO_Ir",
        "outputId": "1503baf4-5245-4c77-8284-2e6c42fe8d97"
      },
      "execution_count": null,
      "outputs": [
        {
          "output_type": "execute_result",
          "data": {
            "text/plain": [
              "Apartamento    118\n",
              "Casa            45\n",
              "Comercial        6\n",
              "Terreno          3\n",
              "Name: classe, dtype: int64"
            ]
          },
          "metadata": {},
          "execution_count": 8
        }
      ]
    },
    {
      "cell_type": "code",
      "source": [
        "housing.describe()"
      ],
      "metadata": {
        "colab": {
          "base_uri": "https://localhost:8080/",
          "height": 364
        },
        "id": "1Izw6RJmh-hp",
        "outputId": "5473cff4-8b1e-452c-f59c-e473c97640aa"
      },
      "execution_count": null,
      "outputs": [
        {
          "output_type": "execute_result",
          "data": {
            "text/plain": [
              "              valor  dormitorios   banheiros  vagas_na_garagem  area_terreno  \\\n",
              "count  1.720000e+02   164.000000  168.000000        154.000000     58.000000   \n",
              "mean   5.196860e+05     2.579268    1.952381          1.701299   1382.055172   \n",
              "std    5.659085e+05     1.015129    1.251631          1.177845   7380.870697   \n",
              "min    1.000000e+05     1.000000    1.000000          1.000000     10.000000   \n",
              "25%    2.500000e+05     2.000000    1.000000          1.000000    250.000000   \n",
              "50%    3.500000e+05     2.000000    2.000000          1.000000    306.000000   \n",
              "75%    5.800000e+05     3.000000    2.000000          2.000000    496.500000   \n",
              "max    4.999999e+06    10.000000   10.000000          8.000000  56580.000000   \n",
              "\n",
              "        area_util   condominio     torres  portaria_hrs  elevador_social  \\\n",
              "count   83.000000   119.000000  83.000000     39.000000        59.000000   \n",
              "mean   112.767831   270.585462   2.277108     18.205128         1.084746   \n",
              "std    101.052242   202.900872   3.178868      7.086605         0.280894   \n",
              "min     10.000000     1.000000   1.000000      1.000000         1.000000   \n",
              "25%     60.000000   120.000000   1.000000     12.000000         1.000000   \n",
              "50%     82.000000   245.000000   1.000000     24.000000         1.000000   \n",
              "75%    120.500000   352.500000   1.500000     24.000000         1.000000   \n",
              "max    574.000000  1200.000000  19.000000     24.000000         2.000000   \n",
              "\n",
              "           suites  apartamento_por_andar  quantidade_de_andares  \\\n",
              "count  102.000000             103.000000             102.000000   \n",
              "mean     1.235294               3.252427               6.392157   \n",
              "std      0.691912               1.913412               4.088518   \n",
              "min      1.000000               1.000000               2.000000   \n",
              "25%      1.000000               2.000000               3.000000   \n",
              "50%      1.000000               3.000000               4.000000   \n",
              "75%      1.000000               4.000000              10.000000   \n",
              "max      5.000000              12.000000              17.000000   \n",
              "\n",
              "       elevador_de_servico  salao_de_festa         iptu         lat  \\\n",
              "count            38.000000            25.0   172.000000  126.000000   \n",
              "mean              1.026316             0.0   175.934012  -21.800490   \n",
              "std               0.162221             0.0   678.629161    0.024339   \n",
              "min               1.000000             0.0     1.000000  -21.857558   \n",
              "25%               1.000000             0.0    54.025000  -21.799574   \n",
              "50%               1.000000             0.0    80.625000  -21.790743   \n",
              "75%               1.000000             0.0   136.250000  -21.788380   \n",
              "max               2.000000             0.0  8000.000000  -21.702056   \n",
              "\n",
              "             long  dist_centro  \n",
              "count  126.000000   126.000000  \n",
              "mean   -46.564274     2.406169  \n",
              "std      0.020292     2.783096  \n",
              "min    -46.597623     0.000000  \n",
              "25%    -46.571666     0.000000  \n",
              "50%    -46.566182     1.034897  \n",
              "75%    -46.559694     3.326118  \n",
              "max    -46.476850    12.976763  "
            ],
            "text/html": [
              "\n",
              "  <div id=\"df-4de33554-a2c4-48f8-8669-7075ecdeb91d\">\n",
              "    <div class=\"colab-df-container\">\n",
              "      <div>\n",
              "<style scoped>\n",
              "    .dataframe tbody tr th:only-of-type {\n",
              "        vertical-align: middle;\n",
              "    }\n",
              "\n",
              "    .dataframe tbody tr th {\n",
              "        vertical-align: top;\n",
              "    }\n",
              "\n",
              "    .dataframe thead th {\n",
              "        text-align: right;\n",
              "    }\n",
              "</style>\n",
              "<table border=\"1\" class=\"dataframe\">\n",
              "  <thead>\n",
              "    <tr style=\"text-align: right;\">\n",
              "      <th></th>\n",
              "      <th>valor</th>\n",
              "      <th>dormitorios</th>\n",
              "      <th>banheiros</th>\n",
              "      <th>vagas_na_garagem</th>\n",
              "      <th>area_terreno</th>\n",
              "      <th>area_util</th>\n",
              "      <th>condominio</th>\n",
              "      <th>torres</th>\n",
              "      <th>portaria_hrs</th>\n",
              "      <th>elevador_social</th>\n",
              "      <th>suites</th>\n",
              "      <th>apartamento_por_andar</th>\n",
              "      <th>quantidade_de_andares</th>\n",
              "      <th>elevador_de_servico</th>\n",
              "      <th>salao_de_festa</th>\n",
              "      <th>iptu</th>\n",
              "      <th>lat</th>\n",
              "      <th>long</th>\n",
              "      <th>dist_centro</th>\n",
              "    </tr>\n",
              "  </thead>\n",
              "  <tbody>\n",
              "    <tr>\n",
              "      <th>count</th>\n",
              "      <td>1.720000e+02</td>\n",
              "      <td>164.000000</td>\n",
              "      <td>168.000000</td>\n",
              "      <td>154.000000</td>\n",
              "      <td>58.000000</td>\n",
              "      <td>83.000000</td>\n",
              "      <td>119.000000</td>\n",
              "      <td>83.000000</td>\n",
              "      <td>39.000000</td>\n",
              "      <td>59.000000</td>\n",
              "      <td>102.000000</td>\n",
              "      <td>103.000000</td>\n",
              "      <td>102.000000</td>\n",
              "      <td>38.000000</td>\n",
              "      <td>25.0</td>\n",
              "      <td>172.000000</td>\n",
              "      <td>126.000000</td>\n",
              "      <td>126.000000</td>\n",
              "      <td>126.000000</td>\n",
              "    </tr>\n",
              "    <tr>\n",
              "      <th>mean</th>\n",
              "      <td>5.196860e+05</td>\n",
              "      <td>2.579268</td>\n",
              "      <td>1.952381</td>\n",
              "      <td>1.701299</td>\n",
              "      <td>1382.055172</td>\n",
              "      <td>112.767831</td>\n",
              "      <td>270.585462</td>\n",
              "      <td>2.277108</td>\n",
              "      <td>18.205128</td>\n",
              "      <td>1.084746</td>\n",
              "      <td>1.235294</td>\n",
              "      <td>3.252427</td>\n",
              "      <td>6.392157</td>\n",
              "      <td>1.026316</td>\n",
              "      <td>0.0</td>\n",
              "      <td>175.934012</td>\n",
              "      <td>-21.800490</td>\n",
              "      <td>-46.564274</td>\n",
              "      <td>2.406169</td>\n",
              "    </tr>\n",
              "    <tr>\n",
              "      <th>std</th>\n",
              "      <td>5.659085e+05</td>\n",
              "      <td>1.015129</td>\n",
              "      <td>1.251631</td>\n",
              "      <td>1.177845</td>\n",
              "      <td>7380.870697</td>\n",
              "      <td>101.052242</td>\n",
              "      <td>202.900872</td>\n",
              "      <td>3.178868</td>\n",
              "      <td>7.086605</td>\n",
              "      <td>0.280894</td>\n",
              "      <td>0.691912</td>\n",
              "      <td>1.913412</td>\n",
              "      <td>4.088518</td>\n",
              "      <td>0.162221</td>\n",
              "      <td>0.0</td>\n",
              "      <td>678.629161</td>\n",
              "      <td>0.024339</td>\n",
              "      <td>0.020292</td>\n",
              "      <td>2.783096</td>\n",
              "    </tr>\n",
              "    <tr>\n",
              "      <th>min</th>\n",
              "      <td>1.000000e+05</td>\n",
              "      <td>1.000000</td>\n",
              "      <td>1.000000</td>\n",
              "      <td>1.000000</td>\n",
              "      <td>10.000000</td>\n",
              "      <td>10.000000</td>\n",
              "      <td>1.000000</td>\n",
              "      <td>1.000000</td>\n",
              "      <td>1.000000</td>\n",
              "      <td>1.000000</td>\n",
              "      <td>1.000000</td>\n",
              "      <td>1.000000</td>\n",
              "      <td>2.000000</td>\n",
              "      <td>1.000000</td>\n",
              "      <td>0.0</td>\n",
              "      <td>1.000000</td>\n",
              "      <td>-21.857558</td>\n",
              "      <td>-46.597623</td>\n",
              "      <td>0.000000</td>\n",
              "    </tr>\n",
              "    <tr>\n",
              "      <th>25%</th>\n",
              "      <td>2.500000e+05</td>\n",
              "      <td>2.000000</td>\n",
              "      <td>1.000000</td>\n",
              "      <td>1.000000</td>\n",
              "      <td>250.000000</td>\n",
              "      <td>60.000000</td>\n",
              "      <td>120.000000</td>\n",
              "      <td>1.000000</td>\n",
              "      <td>12.000000</td>\n",
              "      <td>1.000000</td>\n",
              "      <td>1.000000</td>\n",
              "      <td>2.000000</td>\n",
              "      <td>3.000000</td>\n",
              "      <td>1.000000</td>\n",
              "      <td>0.0</td>\n",
              "      <td>54.025000</td>\n",
              "      <td>-21.799574</td>\n",
              "      <td>-46.571666</td>\n",
              "      <td>0.000000</td>\n",
              "    </tr>\n",
              "    <tr>\n",
              "      <th>50%</th>\n",
              "      <td>3.500000e+05</td>\n",
              "      <td>2.000000</td>\n",
              "      <td>2.000000</td>\n",
              "      <td>1.000000</td>\n",
              "      <td>306.000000</td>\n",
              "      <td>82.000000</td>\n",
              "      <td>245.000000</td>\n",
              "      <td>1.000000</td>\n",
              "      <td>24.000000</td>\n",
              "      <td>1.000000</td>\n",
              "      <td>1.000000</td>\n",
              "      <td>3.000000</td>\n",
              "      <td>4.000000</td>\n",
              "      <td>1.000000</td>\n",
              "      <td>0.0</td>\n",
              "      <td>80.625000</td>\n",
              "      <td>-21.790743</td>\n",
              "      <td>-46.566182</td>\n",
              "      <td>1.034897</td>\n",
              "    </tr>\n",
              "    <tr>\n",
              "      <th>75%</th>\n",
              "      <td>5.800000e+05</td>\n",
              "      <td>3.000000</td>\n",
              "      <td>2.000000</td>\n",
              "      <td>2.000000</td>\n",
              "      <td>496.500000</td>\n",
              "      <td>120.500000</td>\n",
              "      <td>352.500000</td>\n",
              "      <td>1.500000</td>\n",
              "      <td>24.000000</td>\n",
              "      <td>1.000000</td>\n",
              "      <td>1.000000</td>\n",
              "      <td>4.000000</td>\n",
              "      <td>10.000000</td>\n",
              "      <td>1.000000</td>\n",
              "      <td>0.0</td>\n",
              "      <td>136.250000</td>\n",
              "      <td>-21.788380</td>\n",
              "      <td>-46.559694</td>\n",
              "      <td>3.326118</td>\n",
              "    </tr>\n",
              "    <tr>\n",
              "      <th>max</th>\n",
              "      <td>4.999999e+06</td>\n",
              "      <td>10.000000</td>\n",
              "      <td>10.000000</td>\n",
              "      <td>8.000000</td>\n",
              "      <td>56580.000000</td>\n",
              "      <td>574.000000</td>\n",
              "      <td>1200.000000</td>\n",
              "      <td>19.000000</td>\n",
              "      <td>24.000000</td>\n",
              "      <td>2.000000</td>\n",
              "      <td>5.000000</td>\n",
              "      <td>12.000000</td>\n",
              "      <td>17.000000</td>\n",
              "      <td>2.000000</td>\n",
              "      <td>0.0</td>\n",
              "      <td>8000.000000</td>\n",
              "      <td>-21.702056</td>\n",
              "      <td>-46.476850</td>\n",
              "      <td>12.976763</td>\n",
              "    </tr>\n",
              "  </tbody>\n",
              "</table>\n",
              "</div>\n",
              "      <button class=\"colab-df-convert\" onclick=\"convertToInteractive('df-4de33554-a2c4-48f8-8669-7075ecdeb91d')\"\n",
              "              title=\"Convert this dataframe to an interactive table.\"\n",
              "              style=\"display:none;\">\n",
              "        \n",
              "  <svg xmlns=\"http://www.w3.org/2000/svg\" height=\"24px\"viewBox=\"0 0 24 24\"\n",
              "       width=\"24px\">\n",
              "    <path d=\"M0 0h24v24H0V0z\" fill=\"none\"/>\n",
              "    <path d=\"M18.56 5.44l.94 2.06.94-2.06 2.06-.94-2.06-.94-.94-2.06-.94 2.06-2.06.94zm-11 1L8.5 8.5l.94-2.06 2.06-.94-2.06-.94L8.5 2.5l-.94 2.06-2.06.94zm10 10l.94 2.06.94-2.06 2.06-.94-2.06-.94-.94-2.06-.94 2.06-2.06.94z\"/><path d=\"M17.41 7.96l-1.37-1.37c-.4-.4-.92-.59-1.43-.59-.52 0-1.04.2-1.43.59L10.3 9.45l-7.72 7.72c-.78.78-.78 2.05 0 2.83L4 21.41c.39.39.9.59 1.41.59.51 0 1.02-.2 1.41-.59l7.78-7.78 2.81-2.81c.8-.78.8-2.07 0-2.86zM5.41 20L4 18.59l7.72-7.72 1.47 1.35L5.41 20z\"/>\n",
              "  </svg>\n",
              "      </button>\n",
              "      \n",
              "  <style>\n",
              "    .colab-df-container {\n",
              "      display:flex;\n",
              "      flex-wrap:wrap;\n",
              "      gap: 12px;\n",
              "    }\n",
              "\n",
              "    .colab-df-convert {\n",
              "      background-color: #E8F0FE;\n",
              "      border: none;\n",
              "      border-radius: 50%;\n",
              "      cursor: pointer;\n",
              "      display: none;\n",
              "      fill: #1967D2;\n",
              "      height: 32px;\n",
              "      padding: 0 0 0 0;\n",
              "      width: 32px;\n",
              "    }\n",
              "\n",
              "    .colab-df-convert:hover {\n",
              "      background-color: #E2EBFA;\n",
              "      box-shadow: 0px 1px 2px rgba(60, 64, 67, 0.3), 0px 1px 3px 1px rgba(60, 64, 67, 0.15);\n",
              "      fill: #174EA6;\n",
              "    }\n",
              "\n",
              "    [theme=dark] .colab-df-convert {\n",
              "      background-color: #3B4455;\n",
              "      fill: #D2E3FC;\n",
              "    }\n",
              "\n",
              "    [theme=dark] .colab-df-convert:hover {\n",
              "      background-color: #434B5C;\n",
              "      box-shadow: 0px 1px 3px 1px rgba(0, 0, 0, 0.15);\n",
              "      filter: drop-shadow(0px 1px 2px rgba(0, 0, 0, 0.3));\n",
              "      fill: #FFFFFF;\n",
              "    }\n",
              "  </style>\n",
              "\n",
              "      <script>\n",
              "        const buttonEl =\n",
              "          document.querySelector('#df-4de33554-a2c4-48f8-8669-7075ecdeb91d button.colab-df-convert');\n",
              "        buttonEl.style.display =\n",
              "          google.colab.kernel.accessAllowed ? 'block' : 'none';\n",
              "\n",
              "        async function convertToInteractive(key) {\n",
              "          const element = document.querySelector('#df-4de33554-a2c4-48f8-8669-7075ecdeb91d');\n",
              "          const dataTable =\n",
              "            await google.colab.kernel.invokeFunction('convertToInteractive',\n",
              "                                                     [key], {});\n",
              "          if (!dataTable) return;\n",
              "\n",
              "          const docLinkHtml = 'Like what you see? Visit the ' +\n",
              "            '<a target=\"_blank\" href=https://colab.research.google.com/notebooks/data_table.ipynb>data table notebook</a>'\n",
              "            + ' to learn more about interactive tables.';\n",
              "          element.innerHTML = '';\n",
              "          dataTable['output_type'] = 'display_data';\n",
              "          await google.colab.output.renderOutput(dataTable, element);\n",
              "          const docLink = document.createElement('div');\n",
              "          docLink.innerHTML = docLinkHtml;\n",
              "          element.appendChild(docLink);\n",
              "        }\n",
              "      </script>\n",
              "    </div>\n",
              "  </div>\n",
              "  "
            ]
          },
          "metadata": {},
          "execution_count": 9
        }
      ]
    },
    {
      "cell_type": "code",
      "source": [
        "import matplotlib.pyplot as plt\n",
        "housing.hist(bins=50, figsize=(20,15))\n",
        "plt.show()"
      ],
      "metadata": {
        "colab": {
          "base_uri": "https://localhost:8080/",
          "height": 723
        },
        "id": "JYSx8aQUiez_",
        "outputId": "3ce3d9b5-e3ae-4a97-b86c-ba4ef1a00893"
      },
      "execution_count": null,
      "outputs": [
        {
          "output_type": "display_data",
          "data": {
            "text/plain": [
              "<Figure size 1440x1080 with 20 Axes>"
            ],
            "image/png": "[encoded data removed]"
          },
          "metadata": {
            "needs_background": "light"
          }
        }
      ]
    },
    {
      "cell_type": "code",
      "source": [
        "import numpy as np\n",
        "def split_train_test(data, test_ratio):\n",
        " shuffled_indices = np.random.permutation(len(data))\n",
        " test_set_size = int(len(data) * test_ratio)\n",
        " test_indices = shuffled_indices[:test_set_size]\n",
        " train_indices = shuffled_indices[test_set_size:]\n",
        " return data.iloc[train_indices], data.iloc[test_indices]"
      ],
      "metadata": {
        "id": "AWnVFx5avDn3"
      },
      "execution_count": null,
      "outputs": []
    },
    {
      "cell_type": "code",
      "source": [
        "train_set, test_set = split_train_test(housing, 0.2)"
      ],
      "metadata": {
        "id": "GwPni4IMy3UY"
      },
      "execution_count": null,
      "outputs": []
    },
    {
      "cell_type": "code",
      "source": [
        "len(train_set)"
      ],
      "metadata": {
        "colab": {
          "base_uri": "https://localhost:8080/"
        },
        "id": "2MS6tJSKy_V1",
        "outputId": "14b0a2bd-c827-4ef3-fa50-6327dcb5a153"
      },
      "execution_count": null,
      "outputs": [
        {
          "output_type": "execute_result",
          "data": {
            "text/plain": [
              "138"
            ]
          },
          "metadata": {},
          "execution_count": 13
        }
      ]
    },
    {
      "cell_type": "code",
      "source": [
        "len(test_set)"
      ],
      "metadata": {
        "colab": {
          "base_uri": "https://localhost:8080/"
        },
        "id": "6cN_YV8XzDKB",
        "outputId": "9f7e64e5-4543-446d-d2b9-214daf4261c9"
      },
      "execution_count": null,
      "outputs": [
        {
          "output_type": "execute_result",
          "data": {
            "text/plain": [
              "34"
            ]
          },
          "metadata": {},
          "execution_count": 14
        }
      ]
    },
    {
      "cell_type": "code",
      "source": [
        "from sklearn.model_selection import train_test_split\n",
        "train_set, test_set = train_test_split(housing, test_size=0.2, random_state=42)"
      ],
      "metadata": {
        "id": "SP0LyVo59uJL"
      },
      "execution_count": null,
      "outputs": []
    },
    {
      "cell_type": "code",
      "source": [
        "len(train_set)"
      ],
      "metadata": {
        "colab": {
          "base_uri": "https://localhost:8080/"
        },
        "id": "k4mARWrAHzqG",
        "outputId": "778cfabd-0c6e-4d30-a89b-e97a9f64262a"
      },
      "execution_count": null,
      "outputs": [
        {
          "output_type": "execute_result",
          "data": {
            "text/plain": [
              "137"
            ]
          },
          "metadata": {},
          "execution_count": 16
        }
      ]
    },
    {
      "cell_type": "code",
      "source": [
        "len(test_set)"
      ],
      "metadata": {
        "colab": {
          "base_uri": "https://localhost:8080/"
        },
        "id": "lnu7tnfDH2hH",
        "outputId": "d7189cbc-01de-4114-e2b2-bf8a29eff50e"
      },
      "execution_count": null,
      "outputs": [
        {
          "output_type": "execute_result",
          "data": {
            "text/plain": [
              "35"
            ]
          },
          "metadata": {},
          "execution_count": 17
        }
      ]
    },
    {
      "cell_type": "code",
      "source": [
        "corr_matrix = housing.corr()\n",
        "corr_matrix[\"valor\"].sort_values(ascending=False)"
      ],
      "metadata": {
        "colab": {
          "base_uri": "https://localhost:8080/"
        },
        "id": "JtKHx5BOJL5r",
        "outputId": "00bf7229-08ae-4370-c342-5ed45919c6e0"
      },
      "execution_count": null,
      "outputs": [
        {
          "output_type": "execute_result",
          "data": {
            "text/plain": [
              "valor                    1.000000\n",
              "area_util                0.870219\n",
              "banheiros                0.758850\n",
              "vagas_na_garagem         0.745676\n",
              "condominio               0.729820\n",
              "dormitorios              0.719335\n",
              "iptu                     0.708666\n",
              "area_terreno             0.676544\n",
              "suites                   0.644262\n",
              "quantidade_de_andares    0.597944\n",
              "portaria_hrs             0.195412\n",
              "elevador_de_servico      0.127911\n",
              "lat                      0.095188\n",
              "elevador_social          0.074186\n",
              "long                    -0.011442\n",
              "dist_centro             -0.157789\n",
              "apartamento_por_andar   -0.177865\n",
              "torres                  -0.235713\n",
              "salao_de_festa                NaN\n",
              "Name: valor, dtype: float64"
            ]
          },
          "metadata": {},
          "execution_count": 18
        }
      ]
    },
    {
      "cell_type": "code",
      "source": [
        "housing[\"income_cat\"] = pd.cut(housing[\"iptu\"],\n",
        " bins=[0., 54.025000, 80.625000, 136.250000, 8000.000000, np.inf],\n",
        " labels=[1, 2, 3, 4, 5])\n",
        "housing[\"income_cat\"].hist()\n",
        "\n"
      ],
      "metadata": {
        "colab": {
          "base_uri": "https://localhost:8080/",
          "height": 282
        },
        "id": "Qo_lURY7ChAr",
        "outputId": "d017b9b9-5802-4620-bb5f-309391c8233e"
      },
      "execution_count": null,
      "outputs": [
        {
          "output_type": "execute_result",
          "data": {
            "text/plain": [
              "<matplotlib.axes._subplots.AxesSubplot at 0x7f36409a4dc0>"
            ]
          },
          "metadata": {},
          "execution_count": 19
        },
        {
          "output_type": "display_data",
          "data": {
            "text/plain": [
              "<Figure size 432x288 with 1 Axes>"
            ],
            "image/png": "[encoded data removed]"
          },
          "metadata": {
            "needs_background": "light"
          }
        }
      ]
    },
    {
      "cell_type": "code",
      "source": [],
      "metadata": {
        "id": "g3cpyQWPX8CZ"
      },
      "execution_count": null,
      "outputs": []
    },
    {
      "cell_type": "code",
      "source": [
        "import itertools\n",
        "import pandas as pd\n",
        "from datetime import datetime\n",
        "\n",
        "dt = datetime.now()\n",
        "housing.to_csv(str(dt)+'.csv')"
      ],
      "metadata": {
        "id": "g9O0WAmuYY9W"
      },
      "execution_count": null,
      "outputs": []
    },
    {
      "cell_type": "code",
      "source": [
        "from sklearn.model_selection import StratifiedShuffleSplit\n",
        "split = StratifiedShuffleSplit(n_splits=1, test_size=0.2, random_state=42)\n",
        "for train_index, test_index in split.split(housing, housing[\"income_cat\"]):\n",
        " strat_train_set = housing.loc[train_index]\n",
        " strat_test_set = housing.loc[test_index]\n"
      ],
      "metadata": {
        "id": "7s17G1UEDUCa"
      },
      "execution_count": null,
      "outputs": []
    },
    {
      "cell_type": "code",
      "source": [
        "strat_test_set[\"income_cat\"].value_counts() / len(strat_test_set)"
      ],
      "metadata": {
        "colab": {
          "base_uri": "https://localhost:8080/"
        },
        "id": "Ep0w0kuCvKaC",
        "outputId": "4c05ec8a-c33b-4d0a-d2ef-11bd33c67dfd"
      },
      "execution_count": null,
      "outputs": [
        {
          "output_type": "execute_result",
          "data": {
            "text/plain": [
              "1    0.257143\n",
              "3    0.257143\n",
              "4    0.257143\n",
              "2    0.228571\n",
              "5    0.000000\n",
              "Name: income_cat, dtype: float64"
            ]
          },
          "metadata": {},
          "execution_count": 22
        }
      ]
    },
    {
      "cell_type": "code",
      "source": [
        "strat_train_set[\"income_cat\"].value_counts() / len(strat_train_set)"
      ],
      "metadata": {
        "colab": {
          "base_uri": "https://localhost:8080/"
        },
        "id": "VyjxAyRVw0ya",
        "outputId": "f0e82326-16ac-4bce-f00b-ff21e5b065e1"
      },
      "execution_count": null,
      "outputs": [
        {
          "output_type": "execute_result",
          "data": {
            "text/plain": [
              "2    0.255474\n",
              "1    0.248175\n",
              "3    0.248175\n",
              "4    0.248175\n",
              "5    0.000000\n",
              "Name: income_cat, dtype: float64"
            ]
          },
          "metadata": {},
          "execution_count": 23
        }
      ]
    },
    {
      "cell_type": "code",
      "source": [
        "for set_ in (strat_train_set, strat_test_set):\n",
        " set_.drop(\"income_cat\", axis=1, inplace=True)\n"
      ],
      "metadata": {
        "id": "dAfy3tzvxDmh"
      },
      "execution_count": null,
      "outputs": []
    },
    {
      "cell_type": "code",
      "source": [
        "housing = strat_train_set.copy()"
      ],
      "metadata": {
        "id": "MVA8i4KoxdTF"
      },
      "execution_count": null,
      "outputs": []
    },
    {
      "cell_type": "code",
      "source": [
        "housing.plot(kind=\"scatter\", x=\"lat\", y=\"long\")\n"
      ],
      "metadata": {
        "colab": {
          "base_uri": "https://localhost:8080/",
          "height": 296
        },
        "id": "sdIgrDV3xmlF",
        "outputId": "429442a6-7617-4c69-9ad2-8203a19c7a6f"
      },
      "execution_count": null,
      "outputs": [
        {
          "output_type": "execute_result",
          "data": {
            "text/plain": [
              "<matplotlib.axes._subplots.AxesSubplot at 0x7f36410e2bb0>"
            ]
          },
          "metadata": {},
          "execution_count": 26
        },
        {
          "output_type": "display_data",
          "data": {
            "text/plain": [
              "<Figure size 432x288 with 1 Axes>"
            ],
            "image/png": "[encoded data removed]"
          },
          "metadata": {
            "needs_background": "light"
          }
        }
      ]
    },
    {
      "cell_type": "code",
      "source": [
        "from pandas.plotting import scatter_matrix\n",
        "attributes = [\"valor\", \"area_util\", \"banheiros\",\n",
        " \"iptu\"]\n",
        "scatter_matrix(housing[attributes], figsize=(12, 8))"
      ],
      "metadata": {
        "id": "hconpPPk3Qoz",
        "colab": {
          "base_uri": "https://localhost:8080/",
          "height": 802
        },
        "outputId": "bddb3bdb-8946-4f42-a180-a57425a42149"
      },
      "execution_count": null,
      "outputs": [
        {
          "output_type": "execute_result",
          "data": {
            "text/plain": [
              "array([[<matplotlib.axes._subplots.AxesSubplot object at 0x7f3640abb8b0>,\n",
              "        <matplotlib.axes._subplots.AxesSubplot object at 0x7f36405abc10>,\n",
              "        <matplotlib.axes._subplots.AxesSubplot object at 0x7f36409db1f0>,\n",
              "        <matplotlib.axes._subplots.AxesSubplot object at 0x7f36407fd3d0>],\n",
              "       [<matplotlib.axes._subplots.AxesSubplot object at 0x7f363fdd9ca0>,\n",
              "        <matplotlib.axes._subplots.AxesSubplot object at 0x7f3641060dc0>,\n",
              "        <matplotlib.axes._subplots.AxesSubplot object at 0x7f3641060610>,\n",
              "        <matplotlib.axes._subplots.AxesSubplot object at 0x7f3640fa1dc0>],\n",
              "       [<matplotlib.axes._subplots.AxesSubplot object at 0x7f36407e3490>,\n",
              "        <matplotlib.axes._subplots.AxesSubplot object at 0x7f364072b550>,\n",
              "        <matplotlib.axes._subplots.AxesSubplot object at 0x7f36407c63a0>,\n",
              "        <matplotlib.axes._subplots.AxesSubplot object at 0x7f3640a3bbe0>],\n",
              "       [<matplotlib.axes._subplots.AxesSubplot object at 0x7f36409bf340>,\n",
              "        <matplotlib.axes._subplots.AxesSubplot object at 0x7f3640932190>,\n",
              "        <matplotlib.axes._subplots.AxesSubplot object at 0x7f364095e820>,\n",
              "        <matplotlib.axes._subplots.AxesSubplot object at 0x7f36408a7a00>]],\n",
              "      dtype=object)"
            ]
          },
          "metadata": {},
          "execution_count": 27
        },
        {
          "output_type": "display_data",
          "data": {
            "text/plain": [
              "<Figure size 864x576 with 16 Axes>"
            ],
            "image/png": "[encoded data removed]"
          },
          "metadata": {
            "needs_background": "light"
          }
        }
      ]
    },
    {
      "cell_type": "code",
      "source": [
        "housing.plot(kind=\"scatter\", x=\"valor\", y=\"iptu\",\n",
        " alpha=0.1)"
      ],
      "metadata": {
        "colab": {
          "base_uri": "https://localhost:8080/",
          "height": 296
        },
        "id": "iYL9JxG2JTrk",
        "outputId": "1319f352-15d8-422b-b5d8-cab7e94f4e6c"
      },
      "execution_count": null,
      "outputs": [
        {
          "output_type": "execute_result",
          "data": {
            "text/plain": [
              "<matplotlib.axes._subplots.AxesSubplot at 0x7f3640668d60>"
            ]
          },
          "metadata": {},
          "execution_count": 28
        },
        {
          "output_type": "display_data",
          "data": {
            "text/plain": [
              "<Figure size 432x288 with 1 Axes>"
            ],
            "image/png": "[encoded data removed]"
          },
          "metadata": {
            "needs_background": "light"
          }
        }
      ]
    },
    {
      "cell_type": "code",
      "source": [
        "housing = strat_train_set.drop(\"valor\", axis=1)\n",
        "housing_labels = strat_train_set[\"valor\"].copy()\n"
      ],
      "metadata": {
        "id": "OYJvc2Beccuk"
      },
      "execution_count": null,
      "outputs": []
    },
    {
      "cell_type": "code",
      "source": [
        "from sklearn.impute import SimpleImputer\n",
        "imputer = SimpleImputer(strategy=\"median\")"
      ],
      "metadata": {
        "id": "m8G3k1so5LNf"
      },
      "execution_count": null,
      "outputs": []
    },
    {
      "cell_type": "code",
      "source": [
        "housing_num = housing.drop(['classe', 'tipo_do_imovel', 'bairro'], axis=1)\n"
      ],
      "metadata": {
        "id": "GtlE3y-I6LcI"
      },
      "execution_count": null,
      "outputs": []
    },
    {
      "cell_type": "code",
      "source": [
        "imputer.fit(housing_num)"
      ],
      "metadata": {
        "colab": {
          "base_uri": "https://localhost:8080/"
        },
        "id": "RPmDbh0n7FS6",
        "outputId": "cf84b129-49eb-4222-b851-880ac4f9916a"
      },
      "execution_count": null,
      "outputs": [
        {
          "output_type": "execute_result",
          "data": {
            "text/plain": [
              "SimpleImputer(strategy='median')"
            ]
          },
          "metadata": {},
          "execution_count": 32
        }
      ]
    },
    {
      "cell_type": "code",
      "source": [
        " imputer.statistics_"
      ],
      "metadata": {
        "colab": {
          "base_uri": "https://localhost:8080/"
        },
        "id": "henZBNEG7Nf5",
        "outputId": "37cc10f6-0edf-447c-efc6-ba8ccabd9d17"
      },
      "execution_count": null,
      "outputs": [
        {
          "output_type": "execute_result",
          "data": {
            "text/plain": [
              "array([  2.        ,   2.        ,   1.        , 312.        ,\n",
              "        82.        , 250.        ,   1.        ,  24.        ,\n",
              "         1.        ,   1.        ,   2.        ,   4.        ,\n",
              "         1.        ,   0.        ,  80.        , -21.7939677 ,\n",
              "       -46.5661817 ,   1.03489667])"
            ]
          },
          "metadata": {},
          "execution_count": 33
        }
      ]
    },
    {
      "cell_type": "code",
      "source": [
        "housing_num.median().values"
      ],
      "metadata": {
        "colab": {
          "base_uri": "https://localhost:8080/"
        },
        "id": "nAVGhPe-7TDo",
        "outputId": "3a95a34d-ac17-462a-9385-97e3cc5af5e6"
      },
      "execution_count": null,
      "outputs": [
        {
          "output_type": "execute_result",
          "data": {
            "text/plain": [
              "array([  2.        ,   2.        ,   1.        , 312.        ,\n",
              "        82.        , 250.        ,   1.        ,  24.        ,\n",
              "         1.        ,   1.        ,   2.        ,   4.        ,\n",
              "         1.        ,   0.        ,  80.        , -21.7939677 ,\n",
              "       -46.5661817 ,   1.03489667])"
            ]
          },
          "metadata": {},
          "execution_count": 34
        }
      ]
    },
    {
      "cell_type": "code",
      "source": [
        "X = imputer.transform(housing_num)"
      ],
      "metadata": {
        "id": "l4Rm8BRaA6gz"
      },
      "execution_count": null,
      "outputs": []
    },
    {
      "cell_type": "code",
      "source": [
        "housing_tr = pd.DataFrame(X, columns=housing_num.columns)\n"
      ],
      "metadata": {
        "id": "MkVx7xxiA8LB"
      },
      "execution_count": null,
      "outputs": []
    },
    {
      "cell_type": "code",
      "source": [
        "housing_cat = housing[[\"classe\", \"bairro\", \"tipo_do_imovel\"]]\n",
        "housing_cat.head(10)\n"
      ],
      "metadata": {
        "colab": {
          "base_uri": "https://localhost:8080/",
          "height": 363
        },
        "id": "HqbrbW_MFkug",
        "outputId": "b534b64a-e8d7-478f-98ee-aa0716ef3d24"
      },
      "execution_count": 47,
      "outputs": [
        {
          "output_type": "execute_result",
          "data": {
            "text/plain": [
              "          classe                    bairro  tipo_do_imovel\n",
              "114         Casa                vila togni          Padrão\n",
              "15          Casa              santa angela          Padrão\n",
              "163  Apartamento        jardim dos estados            Flat\n",
              "109    Comercial                    centro  Sala Comercial\n",
              "135         Casa       vila caio junqueira          Padrão\n",
              "132  Apartamento              sao benedito          Padrão\n",
              "142  Apartamento              sao benedito          Padrão\n",
              "89   Apartamento                    centro          Padrão\n",
              "74          Casa  residencial sao bernardo          Padrão\n",
              "24   Apartamento       jardim country club          Padrão"
            ],
            "text/html": [
              "\n",
              "  <div id=\"df-dcecec36-5279-4fcf-af89-56f93ffa8421\">\n",
              "    <div class=\"colab-df-container\">\n",
              "      <div>\n",
              "<style scoped>\n",
              "    .dataframe tbody tr th:only-of-type {\n",
              "        vertical-align: middle;\n",
              "    }\n",
              "\n",
              "    .dataframe tbody tr th {\n",
              "        vertical-align: top;\n",
              "    }\n",
              "\n",
              "    .dataframe thead th {\n",
              "        text-align: right;\n",
              "    }\n",
              "</style>\n",
              "<table border=\"1\" class=\"dataframe\">\n",
              "  <thead>\n",
              "    <tr style=\"text-align: right;\">\n",
              "      <th></th>\n",
              "      <th>classe</th>\n",
              "      <th>bairro</th>\n",
              "      <th>tipo_do_imovel</th>\n",
              "    </tr>\n",
              "  </thead>\n",
              "  <tbody>\n",
              "    <tr>\n",
              "      <th>114</th>\n",
              "      <td>Casa</td>\n",
              "      <td>vila togni</td>\n",
              "      <td>Padrão</td>\n",
              "    </tr>\n",
              "    <tr>\n",
              "      <th>15</th>\n",
              "      <td>Casa</td>\n",
              "      <td>santa angela</td>\n",
              "      <td>Padrão</td>\n",
              "    </tr>\n",
              "    <tr>\n",
              "      <th>163</th>\n",
              "      <td>Apartamento</td>\n",
              "      <td>jardim dos estados</td>\n",
              "      <td>Flat</td>\n",
              "    </tr>\n",
              "    <tr>\n",
              "      <th>109</th>\n",
              "      <td>Comercial</td>\n",
              "      <td>centro</td>\n",
              "      <td>Sala Comercial</td>\n",
              "    </tr>\n",
              "    <tr>\n",
              "      <th>135</th>\n",
              "      <td>Casa</td>\n",
              "      <td>vila caio junqueira</td>\n",
              "      <td>Padrão</td>\n",
              "    </tr>\n",
              "    <tr>\n",
              "      <th>132</th>\n",
              "      <td>Apartamento</td>\n",
              "      <td>sao benedito</td>\n",
              "      <td>Padrão</td>\n",
              "    </tr>\n",
              "    <tr>\n",
              "      <th>142</th>\n",
              "      <td>Apartamento</td>\n",
              "      <td>sao benedito</td>\n",
              "      <td>Padrão</td>\n",
              "    </tr>\n",
              "    <tr>\n",
              "      <th>89</th>\n",
              "      <td>Apartamento</td>\n",
              "      <td>centro</td>\n",
              "      <td>Padrão</td>\n",
              "    </tr>\n",
              "    <tr>\n",
              "      <th>74</th>\n",
              "      <td>Casa</td>\n",
              "      <td>residencial sao bernardo</td>\n",
              "      <td>Padrão</td>\n",
              "    </tr>\n",
              "    <tr>\n",
              "      <th>24</th>\n",
              "      <td>Apartamento</td>\n",
              "      <td>jardim country club</td>\n",
              "      <td>Padrão</td>\n",
              "    </tr>\n",
              "  </tbody>\n",
              "</table>\n",
              "</div>\n",
              "      <button class=\"colab-df-convert\" onclick=\"convertToInteractive('df-dcecec36-5279-4fcf-af89-56f93ffa8421')\"\n",
              "              title=\"Convert this dataframe to an interactive table.\"\n",
              "              style=\"display:none;\">\n",
              "        \n",
              "  <svg xmlns=\"http://www.w3.org/2000/svg\" height=\"24px\"viewBox=\"0 0 24 24\"\n",
              "       width=\"24px\">\n",
              "    <path d=\"M0 0h24v24H0V0z\" fill=\"none\"/>\n",
              "    <path d=\"M18.56 5.44l.94 2.06.94-2.06 2.06-.94-2.06-.94-.94-2.06-.94 2.06-2.06.94zm-11 1L8.5 8.5l.94-2.06 2.06-.94-2.06-.94L8.5 2.5l-.94 2.06-2.06.94zm10 10l.94 2.06.94-2.06 2.06-.94-2.06-.94-.94-2.06-.94 2.06-2.06.94z\"/><path d=\"M17.41 7.96l-1.37-1.37c-.4-.4-.92-.59-1.43-.59-.52 0-1.04.2-1.43.59L10.3 9.45l-7.72 7.72c-.78.78-.78 2.05 0 2.83L4 21.41c.39.39.9.59 1.41.59.51 0 1.02-.2 1.41-.59l7.78-7.78 2.81-2.81c.8-.78.8-2.07 0-2.86zM5.41 20L4 18.59l7.72-7.72 1.47 1.35L5.41 20z\"/>\n",
              "  </svg>\n",
              "      </button>\n",
              "      \n",
              "  <style>\n",
              "    .colab-df-container {\n",
              "      display:flex;\n",
              "      flex-wrap:wrap;\n",
              "      gap: 12px;\n",
              "    }\n",
              "\n",
              "    .colab-df-convert {\n",
              "      background-color: #E8F0FE;\n",
              "      border: none;\n",
              "      border-radius: 50%;\n",
              "      cursor: pointer;\n",
              "      display: none;\n",
              "      fill: #1967D2;\n",
              "      height: 32px;\n",
              "      padding: 0 0 0 0;\n",
              "      width: 32px;\n",
              "    }\n",
              "\n",
              "    .colab-df-convert:hover {\n",
              "      background-color: #E2EBFA;\n",
              "      box-shadow: 0px 1px 2px rgba(60, 64, 67, 0.3), 0px 1px 3px 1px rgba(60, 64, 67, 0.15);\n",
              "      fill: #174EA6;\n",
              "    }\n",
              "\n",
              "    [theme=dark] .colab-df-convert {\n",
              "      background-color: #3B4455;\n",
              "      fill: #D2E3FC;\n",
              "    }\n",
              "\n",
              "    [theme=dark] .colab-df-convert:hover {\n",
              "      background-color: #434B5C;\n",
              "      box-shadow: 0px 1px 3px 1px rgba(0, 0, 0, 0.15);\n",
              "      filter: drop-shadow(0px 1px 2px rgba(0, 0, 0, 0.3));\n",
              "      fill: #FFFFFF;\n",
              "    }\n",
              "  </style>\n",
              "\n",
              "      <script>\n",
              "        const buttonEl =\n",
              "          document.querySelector('#df-dcecec36-5279-4fcf-af89-56f93ffa8421 button.colab-df-convert');\n",
              "        buttonEl.style.display =\n",
              "          google.colab.kernel.accessAllowed ? 'block' : 'none';\n",
              "\n",
              "        async function convertToInteractive(key) {\n",
              "          const element = document.querySelector('#df-dcecec36-5279-4fcf-af89-56f93ffa8421');\n",
              "          const dataTable =\n",
              "            await google.colab.kernel.invokeFunction('convertToInteractive',\n",
              "                                                     [key], {});\n",
              "          if (!dataTable) return;\n",
              "\n",
              "          const docLinkHtml = 'Like what you see? Visit the ' +\n",
              "            '<a target=\"_blank\" href=https://colab.research.google.com/notebooks/data_table.ipynb>data table notebook</a>'\n",
              "            + ' to learn more about interactive tables.';\n",
              "          element.innerHTML = '';\n",
              "          dataTable['output_type'] = 'display_data';\n",
              "          await google.colab.output.renderOutput(dataTable, element);\n",
              "          const docLink = document.createElement('div');\n",
              "          docLink.innerHTML = docLinkHtml;\n",
              "          element.appendChild(docLink);\n",
              "        }\n",
              "      </script>\n",
              "    </div>\n",
              "  </div>\n",
              "  "
            ]
          },
          "metadata": {},
          "execution_count": 47
        }
      ]
    },
    {
      "cell_type": "code",
      "source": [
        "from sklearn.preprocessing import OrdinalEncoder\n",
        "ordinal_encoder = OrdinalEncoder()"
      ],
      "metadata": {
        "id": "6rx1Hs3yH2AF"
      },
      "execution_count": 48,
      "outputs": []
    },
    {
      "cell_type": "code",
      "source": [
        "housing_cat_encoded = ordinal_encoder.fit_transform(housing_cat)\n",
        "housing_cat_encoded[:10]"
      ],
      "metadata": {
        "colab": {
          "base_uri": "https://localhost:8080/"
        },
        "id": "bYpDY6VjIEt1",
        "outputId": "9181cced-3cc7-4b07-8b2e-e797a8b35ea7"
      },
      "execution_count": 49,
      "outputs": [
        {
          "output_type": "execute_result",
          "data": {
            "text/plain": [
              "array([[ 1., 42.,  3.],\n",
              "       [ 1., 35.,  3.],\n",
              "       [ 0., 13.,  1.],\n",
              "       [ 2.,  1.,  4.],\n",
              "       [ 1., 41.,  3.],\n",
              "       [ 0., 39.,  3.],\n",
              "       [ 0., 39.,  3.],\n",
              "       [ 0.,  1.,  3.],\n",
              "       [ 1., 34.,  3.],\n",
              "       [ 0., 10.,  3.]])"
            ]
          },
          "metadata": {},
          "execution_count": 49
        }
      ]
    },
    {
      "cell_type": "code",
      "source": [
        "ordinal_encoder.categories_"
      ],
      "metadata": {
        "colab": {
          "base_uri": "https://localhost:8080/"
        },
        "id": "Jbi0Wie3Nlnc",
        "outputId": "94b6455e-11b2-4dbb-bb6d-6c09f722815e"
      },
      "execution_count": 50,
      "outputs": [
        {
          "output_type": "execute_result",
          "data": {
            "text/plain": [
              "[array(['Apartamento', 'Casa', 'Comercial', 'Terreno'], dtype=object),\n",
              " array(['campo das aroeiras', 'centro',\n",
              "        'conjunto habitacional pedro afonso junqueira', 'da saude',\n",
              "        'dom bosco', 'estancia pocos de caldas', 'jardim amaryllis',\n",
              "        'jardim bandeirantes', 'jardim campos elisios',\n",
              "        'jardim cascatinha', 'jardim country club', 'jardim das azaleias',\n",
              "        'jardim das hortencias', 'jardim dos estados',\n",
              "        'jardim elvira dias', 'jardim esmeralda', 'jardim europa',\n",
              "        'jardim ipe', 'jardim paraiso', 'jardim philadelphia',\n",
              "        'jardim quisisana', 'jardim sao bento', 'jardim sao paulo',\n",
              "        'jardim vitoria', 'monte verde ii', 'nossa senhora aparecida',\n",
              "        'parque das nacoes', 'parque pinheiros', 'parque primavera',\n",
              "        'parque sao sebastiao', 'parque vivaldi leite ribeiro',\n",
              "        'residencial greenville', 'residencial morumbi',\n",
              "        'residencial paineiras', 'residencial sao bernardo',\n",
              "        'santa angela', 'santa lucia', 'santa maria', 'santa tereza',\n",
              "        'sao benedito', 'sao geraldo', 'vila caio junqueira', 'vila togni'],\n",
              "       dtype=object),\n",
              " array(['Casa em condomínio', 'Flat', 'Loja', 'Padrão', 'Sala Comercial'],\n",
              "       dtype=object)]"
            ]
          },
          "metadata": {},
          "execution_count": 50
        }
      ]
    },
    {
      "cell_type": "code",
      "source": [
        "from sklearn.preprocessing import OneHotEncoder\n",
        "cat_encoder = OneHotEncoder()\n",
        "housing_cat_1hot = cat_encoder.fit_transform(housing_cat)\n",
        "housing_cat_1hot"
      ],
      "metadata": {
        "colab": {
          "base_uri": "https://localhost:8080/"
        },
        "id": "hYNlYKoaTIOq",
        "outputId": "9a6a8039-80cf-4f5c-a901-19bba7c1899f"
      },
      "execution_count": 51,
      "outputs": [
        {
          "output_type": "execute_result",
          "data": {
            "text/plain": [
              "<137x52 sparse matrix of type '<class 'numpy.float64'>'\n",
              "\twith 411 stored elements in Compressed Sparse Row format>"
            ]
          },
          "metadata": {},
          "execution_count": 51
        }
      ]
    },
    {
      "cell_type": "code",
      "source": [
        "housing_cat_1hot.toarray()"
      ],
      "metadata": {
        "colab": {
          "base_uri": "https://localhost:8080/"
        },
        "id": "nc1OJmBVTbeQ",
        "outputId": "3bd81470-4863-4f25-b24e-b1e83573e080"
      },
      "execution_count": 52,
      "outputs": [
        {
          "output_type": "execute_result",
          "data": {
            "text/plain": [
              "array([[0., 1., 0., ..., 0., 1., 0.],\n",
              "       [0., 1., 0., ..., 0., 1., 0.],\n",
              "       [1., 0., 0., ..., 0., 0., 0.],\n",
              "       ...,\n",
              "       [0., 1., 0., ..., 0., 0., 0.],\n",
              "       [0., 1., 0., ..., 0., 1., 0.],\n",
              "       [1., 0., 0., ..., 0., 1., 0.]])"
            ]
          },
          "metadata": {},
          "execution_count": 52
        }
      ]
    },
    {
      "cell_type": "code",
      "source": [
        "cat_encoder.categories_"
      ],
      "metadata": {
        "colab": {
          "base_uri": "https://localhost:8080/"
        },
        "id": "IdRcgrRtTmIl",
        "outputId": "9885426e-043f-4b26-d56c-cf57a515e8e5"
      },
      "execution_count": 53,
      "outputs": [
        {
          "output_type": "execute_result",
          "data": {
            "text/plain": [
              "[array(['Apartamento', 'Casa', 'Comercial', 'Terreno'], dtype=object),\n",
              " array(['campo das aroeiras', 'centro',\n",
              "        'conjunto habitacional pedro afonso junqueira', 'da saude',\n",
              "        'dom bosco', 'estancia pocos de caldas', 'jardim amaryllis',\n",
              "        'jardim bandeirantes', 'jardim campos elisios',\n",
              "        'jardim cascatinha', 'jardim country club', 'jardim das azaleias',\n",
              "        'jardim das hortencias', 'jardim dos estados',\n",
              "        'jardim elvira dias', 'jardim esmeralda', 'jardim europa',\n",
              "        'jardim ipe', 'jardim paraiso', 'jardim philadelphia',\n",
              "        'jardim quisisana', 'jardim sao bento', 'jardim sao paulo',\n",
              "        'jardim vitoria', 'monte verde ii', 'nossa senhora aparecida',\n",
              "        'parque das nacoes', 'parque pinheiros', 'parque primavera',\n",
              "        'parque sao sebastiao', 'parque vivaldi leite ribeiro',\n",
              "        'residencial greenville', 'residencial morumbi',\n",
              "        'residencial paineiras', 'residencial sao bernardo',\n",
              "        'santa angela', 'santa lucia', 'santa maria', 'santa tereza',\n",
              "        'sao benedito', 'sao geraldo', 'vila caio junqueira', 'vila togni'],\n",
              "       dtype=object),\n",
              " array(['Casa em condomínio', 'Flat', 'Loja', 'Padrão', 'Sala Comercial'],\n",
              "       dtype=object)]"
            ]
          },
          "metadata": {},
          "execution_count": 53
        }
      ]
    },
    {
      "cell_type": "code",
      "source": [
        "from sklearn.base import BaseEstimator, TransformerMixin\n",
        "\n",
        "class CombinedAttributesAdder(BaseEstimator, TransformerMixin):\n",
        " def __init__(self, add_bedrooms_per_room = True): # no *args or **kargs\n",
        "  self.add_bedrooms_per_room = add_bedrooms_per_room\n",
        " \n",
        " def fit(self, X, y=None):\n",
        "  return self # nothing else to do\n",
        " \n",
        " def transform(self, X, y=None):\n",
        "  rooms_per_household = X[:, rooms_ix] / X[:, households_ix]\n",
        "  population_per_household = X[:, population_ix] / X[:, households_ix]\n",
        "  if self.add_bedrooms_per_room:\n",
        "    bedrooms_per_room = X[:, bedrooms_ix] / X[:, rooms_ix]\n",
        "    return np.c_[X, rooms_per_household, population_per_household, bedrooms_per_room]\n",
        "  else:\n",
        "    return np.c_[X, rooms_per_household, population_per_household]\n",
        "attr_adder = CombinedAttributesAdder(add_bedrooms_per_room=False)\n",
        "housing_extra_attribs = attr_adder.transform(housing.values)\n"
      ],
      "metadata": {
        "colab": {
          "base_uri": "https://localhost:8080/",
          "height": 323
        },
        "id": "U3yNgwGuULHk",
        "outputId": "7495fb19-349b-43d9-99c6-0d90368048e4"
      },
      "execution_count": 55,
      "outputs": [
        {
          "output_type": "error",
          "ename": "NameError",
          "evalue": "ignored",
          "traceback": [
            "\u001b[0;31m---------------------------------------------------------------------------\u001b[0m",
            "\u001b[0;31mNameError\u001b[0m                                 Traceback (most recent call last)",
            "\u001b[0;32m<ipython-input-55-f8406a8d78b4>\u001b[0m in \u001b[0;36m<module>\u001b[0;34m\u001b[0m\n\u001b[1;32m     17\u001b[0m     \u001b[0;32mreturn\u001b[0m \u001b[0mnp\u001b[0m\u001b[0;34m.\u001b[0m\u001b[0mc_\u001b[0m\u001b[0;34m[\u001b[0m\u001b[0mX\u001b[0m\u001b[0;34m,\u001b[0m \u001b[0mrooms_per_household\u001b[0m\u001b[0;34m,\u001b[0m \u001b[0mpopulation_per_household\u001b[0m\u001b[0;34m]\u001b[0m\u001b[0;34m\u001b[0m\u001b[0;34m\u001b[0m\u001b[0m\n\u001b[1;32m     18\u001b[0m \u001b[0mattr_adder\u001b[0m \u001b[0;34m=\u001b[0m \u001b[0mCombinedAttributesAdder\u001b[0m\u001b[0;34m(\u001b[0m\u001b[0madd_bedrooms_per_room\u001b[0m\u001b[0;34m=\u001b[0m\u001b[0;32mFalse\u001b[0m\u001b[0;34m)\u001b[0m\u001b[0;34m\u001b[0m\u001b[0;34m\u001b[0m\u001b[0m\n\u001b[0;32m---> 19\u001b[0;31m \u001b[0mhousing_extra_attribs\u001b[0m \u001b[0;34m=\u001b[0m \u001b[0mattr_adder\u001b[0m\u001b[0;34m.\u001b[0m\u001b[0mtransform\u001b[0m\u001b[0;34m(\u001b[0m\u001b[0mhousing\u001b[0m\u001b[0;34m.\u001b[0m\u001b[0mvalues\u001b[0m\u001b[0;34m)\u001b[0m\u001b[0;34m\u001b[0m\u001b[0;34m\u001b[0m\u001b[0m\n\u001b[0m",
            "\u001b[0;32m<ipython-input-55-f8406a8d78b4>\u001b[0m in \u001b[0;36mtransform\u001b[0;34m(self, X, y)\u001b[0m\n\u001b[1;32m      9\u001b[0m \u001b[0;34m\u001b[0m\u001b[0m\n\u001b[1;32m     10\u001b[0m  \u001b[0;32mdef\u001b[0m \u001b[0mtransform\u001b[0m\u001b[0;34m(\u001b[0m\u001b[0mself\u001b[0m\u001b[0;34m,\u001b[0m \u001b[0mX\u001b[0m\u001b[0;34m,\u001b[0m \u001b[0my\u001b[0m\u001b[0;34m=\u001b[0m\u001b[0;32mNone\u001b[0m\u001b[0;34m)\u001b[0m\u001b[0;34m:\u001b[0m\u001b[0;34m\u001b[0m\u001b[0;34m\u001b[0m\u001b[0m\n\u001b[0;32m---> 11\u001b[0;31m   \u001b[0mrooms_per_household\u001b[0m \u001b[0;34m=\u001b[0m \u001b[0mX\u001b[0m\u001b[0;34m[\u001b[0m\u001b[0;34m:\u001b[0m\u001b[0;34m,\u001b[0m \u001b[0mrooms_ix\u001b[0m\u001b[0;34m]\u001b[0m \u001b[0;34m/\u001b[0m \u001b[0mX\u001b[0m\u001b[0;34m[\u001b[0m\u001b[0;34m:\u001b[0m\u001b[0;34m,\u001b[0m \u001b[0mhouseholds_ix\u001b[0m\u001b[0;34m]\u001b[0m\u001b[0;34m\u001b[0m\u001b[0;34m\u001b[0m\u001b[0m\n\u001b[0m\u001b[1;32m     12\u001b[0m   \u001b[0mpopulation_per_household\u001b[0m \u001b[0;34m=\u001b[0m \u001b[0mX\u001b[0m\u001b[0;34m[\u001b[0m\u001b[0;34m:\u001b[0m\u001b[0;34m,\u001b[0m \u001b[0mpopulation_ix\u001b[0m\u001b[0;34m]\u001b[0m \u001b[0;34m/\u001b[0m \u001b[0mX\u001b[0m\u001b[0;34m[\u001b[0m\u001b[0;34m:\u001b[0m\u001b[0;34m,\u001b[0m \u001b[0mhouseholds_ix\u001b[0m\u001b[0;34m]\u001b[0m\u001b[0;34m\u001b[0m\u001b[0;34m\u001b[0m\u001b[0m\n\u001b[1;32m     13\u001b[0m   \u001b[0;32mif\u001b[0m \u001b[0mself\u001b[0m\u001b[0;34m.\u001b[0m\u001b[0madd_bedrooms_per_room\u001b[0m\u001b[0;34m:\u001b[0m\u001b[0;34m\u001b[0m\u001b[0;34m\u001b[0m\u001b[0m\n",
            "\u001b[0;31mNameError\u001b[0m: name 'rooms_ix' is not defined"
          ]
        }
      ]
    }
  ]
}