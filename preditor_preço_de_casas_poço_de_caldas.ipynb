{
  "nbformat": 4,
  "nbformat_minor": 0,
  "metadata": {
    "colab": {
      "provenance": [],
      "authorship_tag": "ABX9TyP988AisHOjX1CgJ5FIZrt3",
      "include_colab_link": true
    },
    "kernelspec": {
      "name": "python3",
      "display_name": "Python 3"
    },
    "language_info": {
      "name": "python"
    }
  },
  "cells": [
    {
      "cell_type": "markdown",
      "metadata": {
        "id": "view-in-github",
        "colab_type": "text"
      },
      "source": [
        "<a href=\"https://colab.research.google.com/github/RogerSchwartz/preditor-pre-o-de-casas-po-o-de-caldas/blob/main/preditor_pre%C3%A7o_de_casas_po%C3%A7o_de_caldas.ipynb\" target=\"_parent\"><img src=\"https://colab.research.google.com/assets/colab-badge.svg\" alt=\"Open In Colab\"/></a>"
      ]
    },
    {
      "cell_type": "code",
      "execution_count": 71,
      "metadata": {
        "id": "xpHUxltLGLjV"
      },
      "outputs": [],
      "source": [
        "import os\n",
        "import tarfile\n",
        "from six.moves import urllib\n",
        "HOUSING_PATH = os.path.join(\"datasets\", \"data\")"
      ]
    },
    {
      "cell_type": "code",
      "source": [
        "import pandas as pd\n",
        "def load_housing_data(housing_path=HOUSING_PATH):\n",
        "    csv_path = os.path.join(housing_path, \"imoveis_pocos.csv\")\n",
        "    return pd.read_csv(csv_path)"
      ],
      "metadata": {
        "id": "ASwh6wI_G2na"
      },
      "execution_count": 72,
      "outputs": []
    },
    {
      "cell_type": "code",
      "source": [
        "housing = load_housing_data()\n",
        "housing = housing[housing.iptu.notnull()]\n",
        "housing = housing.reset_index(drop=True)\n",
        "housing.head()"
      ],
      "metadata": {
        "colab": {
          "base_uri": "https://localhost:8080/",
          "height": 369
        },
        "id": "61AXtADdLWPM",
        "outputId": "d8d9b8af-58de-4980-c834-15513bad0b16"
      },
      "execution_count": 73,
      "outputs": [
        {
          "output_type": "execute_result",
          "data": {
            "text/plain": [
              "       valor       classe  dormitorios  banheiros  vagas_na_garagem  \\\n",
              "0   600000.0  Apartamento          3.0        2.0               2.0   \n",
              "1   600000.0  Apartamento          2.0        2.0               1.0   \n",
              "2   265000.0  Apartamento          2.0        1.0               1.0   \n",
              "3   140000.0  Apartamento          2.0        1.0               1.0   \n",
              "4  2200000.0         Casa          4.0        4.0               4.0   \n",
              "\n",
              "  tipo_do_imovel              bairro  area_terreno  area_util  condominio  \\\n",
              "0         Padrão              centro           NaN       91.0       350.0   \n",
              "1         Padrão              centro           NaN       75.0       400.0   \n",
              "2         Padrão          vila togni           NaN       46.0       230.0   \n",
              "3         Padrão           dom bosco           NaN       47.0       162.0   \n",
              "4         Padrão  jardim dos estados         703.0      574.0         NaN   \n",
              "\n",
              "   ...  elevador_social  suites  apartamento_por_andar  quantidade_de_andares  \\\n",
              "0  ...              1.0     1.0                    NaN                    NaN   \n",
              "1  ...              1.0     1.0                    NaN                    NaN   \n",
              "2  ...              NaN     NaN                    8.0                    9.0   \n",
              "3  ...              NaN     NaN                    4.0                    4.0   \n",
              "4  ...              NaN     2.0                    NaN                    NaN   \n",
              "\n",
              "   elevador_de_servico  salao_de_festa    iptu        lat       long  \\\n",
              "0                  1.0             0.0  208.00 -21.788380 -46.566182   \n",
              "1                  1.0             0.0  186.00 -21.788380 -46.566182   \n",
              "2                  NaN             NaN   84.12 -21.780299 -46.597623   \n",
              "3                  NaN             NaN   35.00 -21.793968 -46.534471   \n",
              "4                  NaN             NaN  250.00 -21.782685 -46.559694   \n",
              "\n",
              "   dist_centro  \n",
              "0     0.000000  \n",
              "1     0.000000  \n",
              "2     3.368500  \n",
              "3     3.332541  \n",
              "4     0.921824  \n",
              "\n",
              "[5 rows x 22 columns]"
            ],
            "text/html": [
              "\n",
              "  <div id=\"df-38d11231-f8c6-4757-8cb6-049cfe1b2b7f\">\n",
              "    <div class=\"colab-df-container\">\n",
              "      <div>\n",
              "<style scoped>\n",
              "    .dataframe tbody tr th:only-of-type {\n",
              "        vertical-align: middle;\n",
              "    }\n",
              "\n",
              "    .dataframe tbody tr th {\n",
              "        vertical-align: top;\n",
              "    }\n",
              "\n",
              "    .dataframe thead th {\n",
              "        text-align: right;\n",
              "    }\n",
              "</style>\n",
              "<table border=\"1\" class=\"dataframe\">\n",
              "  <thead>\n",
              "    <tr style=\"text-align: right;\">\n",
              "      <th></th>\n",
              "      <th>valor</th>\n",
              "      <th>classe</th>\n",
              "      <th>dormitorios</th>\n",
              "      <th>banheiros</th>\n",
              "      <th>vagas_na_garagem</th>\n",
              "      <th>tipo_do_imovel</th>\n",
              "      <th>bairro</th>\n",
              "      <th>area_terreno</th>\n",
              "      <th>area_util</th>\n",
              "      <th>condominio</th>\n",
              "      <th>...</th>\n",
              "      <th>elevador_social</th>\n",
              "      <th>suites</th>\n",
              "      <th>apartamento_por_andar</th>\n",
              "      <th>quantidade_de_andares</th>\n",
              "      <th>elevador_de_servico</th>\n",
              "      <th>salao_de_festa</th>\n",
              "      <th>iptu</th>\n",
              "      <th>lat</th>\n",
              "      <th>long</th>\n",
              "      <th>dist_centro</th>\n",
              "    </tr>\n",
              "  </thead>\n",
              "  <tbody>\n",
              "    <tr>\n",
              "      <th>0</th>\n",
              "      <td>600000.0</td>\n",
              "      <td>Apartamento</td>\n",
              "      <td>3.0</td>\n",
              "      <td>2.0</td>\n",
              "      <td>2.0</td>\n",
              "      <td>Padrão</td>\n",
              "      <td>centro</td>\n",
              "      <td>NaN</td>\n",
              "      <td>91.0</td>\n",
              "      <td>350.0</td>\n",
              "      <td>...</td>\n",
              "      <td>1.0</td>\n",
              "      <td>1.0</td>\n",
              "      <td>NaN</td>\n",
              "      <td>NaN</td>\n",
              "      <td>1.0</td>\n",
              "      <td>0.0</td>\n",
              "      <td>208.00</td>\n",
              "      <td>-21.788380</td>\n",
              "      <td>-46.566182</td>\n",
              "      <td>0.000000</td>\n",
              "    </tr>\n",
              "    <tr>\n",
              "      <th>1</th>\n",
              "      <td>600000.0</td>\n",
              "      <td>Apartamento</td>\n",
              "      <td>2.0</td>\n",
              "      <td>2.0</td>\n",
              "      <td>1.0</td>\n",
              "      <td>Padrão</td>\n",
              "      <td>centro</td>\n",
              "      <td>NaN</td>\n",
              "      <td>75.0</td>\n",
              "      <td>400.0</td>\n",
              "      <td>...</td>\n",
              "      <td>1.0</td>\n",
              "      <td>1.0</td>\n",
              "      <td>NaN</td>\n",
              "      <td>NaN</td>\n",
              "      <td>1.0</td>\n",
              "      <td>0.0</td>\n",
              "      <td>186.00</td>\n",
              "      <td>-21.788380</td>\n",
              "      <td>-46.566182</td>\n",
              "      <td>0.000000</td>\n",
              "    </tr>\n",
              "    <tr>\n",
              "      <th>2</th>\n",
              "      <td>265000.0</td>\n",
              "      <td>Apartamento</td>\n",
              "      <td>2.0</td>\n",
              "      <td>1.0</td>\n",
              "      <td>1.0</td>\n",
              "      <td>Padrão</td>\n",
              "      <td>vila togni</td>\n",
              "      <td>NaN</td>\n",
              "      <td>46.0</td>\n",
              "      <td>230.0</td>\n",
              "      <td>...</td>\n",
              "      <td>NaN</td>\n",
              "      <td>NaN</td>\n",
              "      <td>8.0</td>\n",
              "      <td>9.0</td>\n",
              "      <td>NaN</td>\n",
              "      <td>NaN</td>\n",
              "      <td>84.12</td>\n",
              "      <td>-21.780299</td>\n",
              "      <td>-46.597623</td>\n",
              "      <td>3.368500</td>\n",
              "    </tr>\n",
              "    <tr>\n",
              "      <th>3</th>\n",
              "      <td>140000.0</td>\n",
              "      <td>Apartamento</td>\n",
              "      <td>2.0</td>\n",
              "      <td>1.0</td>\n",
              "      <td>1.0</td>\n",
              "      <td>Padrão</td>\n",
              "      <td>dom bosco</td>\n",
              "      <td>NaN</td>\n",
              "      <td>47.0</td>\n",
              "      <td>162.0</td>\n",
              "      <td>...</td>\n",
              "      <td>NaN</td>\n",
              "      <td>NaN</td>\n",
              "      <td>4.0</td>\n",
              "      <td>4.0</td>\n",
              "      <td>NaN</td>\n",
              "      <td>NaN</td>\n",
              "      <td>35.00</td>\n",
              "      <td>-21.793968</td>\n",
              "      <td>-46.534471</td>\n",
              "      <td>3.332541</td>\n",
              "    </tr>\n",
              "    <tr>\n",
              "      <th>4</th>\n",
              "      <td>2200000.0</td>\n",
              "      <td>Casa</td>\n",
              "      <td>4.0</td>\n",
              "      <td>4.0</td>\n",
              "      <td>4.0</td>\n",
              "      <td>Padrão</td>\n",
              "      <td>jardim dos estados</td>\n",
              "      <td>703.0</td>\n",
              "      <td>574.0</td>\n",
              "      <td>NaN</td>\n",
              "      <td>...</td>\n",
              "      <td>NaN</td>\n",
              "      <td>2.0</td>\n",
              "      <td>NaN</td>\n",
              "      <td>NaN</td>\n",
              "      <td>NaN</td>\n",
              "      <td>NaN</td>\n",
              "      <td>250.00</td>\n",
              "      <td>-21.782685</td>\n",
              "      <td>-46.559694</td>\n",
              "      <td>0.921824</td>\n",
              "    </tr>\n",
              "  </tbody>\n",
              "</table>\n",
              "<p>5 rows × 22 columns</p>\n",
              "</div>\n",
              "      <button class=\"colab-df-convert\" onclick=\"convertToInteractive('df-38d11231-f8c6-4757-8cb6-049cfe1b2b7f')\"\n",
              "              title=\"Convert this dataframe to an interactive table.\"\n",
              "              style=\"display:none;\">\n",
              "        \n",
              "  <svg xmlns=\"http://www.w3.org/2000/svg\" height=\"24px\"viewBox=\"0 0 24 24\"\n",
              "       width=\"24px\">\n",
              "    <path d=\"M0 0h24v24H0V0z\" fill=\"none\"/>\n",
              "    <path d=\"M18.56 5.44l.94 2.06.94-2.06 2.06-.94-2.06-.94-.94-2.06-.94 2.06-2.06.94zm-11 1L8.5 8.5l.94-2.06 2.06-.94-2.06-.94L8.5 2.5l-.94 2.06-2.06.94zm10 10l.94 2.06.94-2.06 2.06-.94-2.06-.94-.94-2.06-.94 2.06-2.06.94z\"/><path d=\"M17.41 7.96l-1.37-1.37c-.4-.4-.92-.59-1.43-.59-.52 0-1.04.2-1.43.59L10.3 9.45l-7.72 7.72c-.78.78-.78 2.05 0 2.83L4 21.41c.39.39.9.59 1.41.59.51 0 1.02-.2 1.41-.59l7.78-7.78 2.81-2.81c.8-.78.8-2.07 0-2.86zM5.41 20L4 18.59l7.72-7.72 1.47 1.35L5.41 20z\"/>\n",
              "  </svg>\n",
              "      </button>\n",
              "      \n",
              "  <style>\n",
              "    .colab-df-container {\n",
              "      display:flex;\n",
              "      flex-wrap:wrap;\n",
              "      gap: 12px;\n",
              "    }\n",
              "\n",
              "    .colab-df-convert {\n",
              "      background-color: #E8F0FE;\n",
              "      border: none;\n",
              "      border-radius: 50%;\n",
              "      cursor: pointer;\n",
              "      display: none;\n",
              "      fill: #1967D2;\n",
              "      height: 32px;\n",
              "      padding: 0 0 0 0;\n",
              "      width: 32px;\n",
              "    }\n",
              "\n",
              "    .colab-df-convert:hover {\n",
              "      background-color: #E2EBFA;\n",
              "      box-shadow: 0px 1px 2px rgba(60, 64, 67, 0.3), 0px 1px 3px 1px rgba(60, 64, 67, 0.15);\n",
              "      fill: #174EA6;\n",
              "    }\n",
              "\n",
              "    [theme=dark] .colab-df-convert {\n",
              "      background-color: #3B4455;\n",
              "      fill: #D2E3FC;\n",
              "    }\n",
              "\n",
              "    [theme=dark] .colab-df-convert:hover {\n",
              "      background-color: #434B5C;\n",
              "      box-shadow: 0px 1px 3px 1px rgba(0, 0, 0, 0.15);\n",
              "      filter: drop-shadow(0px 1px 2px rgba(0, 0, 0, 0.3));\n",
              "      fill: #FFFFFF;\n",
              "    }\n",
              "  </style>\n",
              "\n",
              "      <script>\n",
              "        const buttonEl =\n",
              "          document.querySelector('#df-38d11231-f8c6-4757-8cb6-049cfe1b2b7f button.colab-df-convert');\n",
              "        buttonEl.style.display =\n",
              "          google.colab.kernel.accessAllowed ? 'block' : 'none';\n",
              "\n",
              "        async function convertToInteractive(key) {\n",
              "          const element = document.querySelector('#df-38d11231-f8c6-4757-8cb6-049cfe1b2b7f');\n",
              "          const dataTable =\n",
              "            await google.colab.kernel.invokeFunction('convertToInteractive',\n",
              "                                                     [key], {});\n",
              "          if (!dataTable) return;\n",
              "\n",
              "          const docLinkHtml = 'Like what you see? Visit the ' +\n",
              "            '<a target=\"_blank\" href=https://colab.research.google.com/notebooks/data_table.ipynb>data table notebook</a>'\n",
              "            + ' to learn more about interactive tables.';\n",
              "          element.innerHTML = '';\n",
              "          dataTable['output_type'] = 'display_data';\n",
              "          await google.colab.output.renderOutput(dataTable, element);\n",
              "          const docLink = document.createElement('div');\n",
              "          docLink.innerHTML = docLinkHtml;\n",
              "          element.appendChild(docLink);\n",
              "        }\n",
              "      </script>\n",
              "    </div>\n",
              "  </div>\n",
              "  "
            ]
          },
          "metadata": {},
          "execution_count": 73
        }
      ]
    },
    {
      "cell_type": "code",
      "source": [
        "housing.info()"
      ],
      "metadata": {
        "colab": {
          "base_uri": "https://localhost:8080/"
        },
        "id": "4s3GstmCLlJ1",
        "outputId": "f534b124-999c-4601-eac1-0f0a30cd97a9"
      },
      "execution_count": 74,
      "outputs": [
        {
          "output_type": "stream",
          "name": "stdout",
          "text": [
            "<class 'pandas.core.frame.DataFrame'>\n",
            "RangeIndex: 172 entries, 0 to 171\n",
            "Data columns (total 22 columns):\n",
            " #   Column                 Non-Null Count  Dtype  \n",
            "---  ------                 --------------  -----  \n",
            " 0   valor                  172 non-null    float64\n",
            " 1   classe                 172 non-null    object \n",
            " 2   dormitorios            164 non-null    float64\n",
            " 3   banheiros              168 non-null    float64\n",
            " 4   vagas_na_garagem       154 non-null    float64\n",
            " 5   tipo_do_imovel         172 non-null    object \n",
            " 6   bairro                 172 non-null    object \n",
            " 7   area_terreno           58 non-null     float64\n",
            " 8   area_util              83 non-null     float64\n",
            " 9   condominio             119 non-null    float64\n",
            " 10  torres                 83 non-null     float64\n",
            " 11  portaria_hrs           39 non-null     float64\n",
            " 12  elevador_social        59 non-null     float64\n",
            " 13  suites                 102 non-null    float64\n",
            " 14  apartamento_por_andar  103 non-null    float64\n",
            " 15  quantidade_de_andares  102 non-null    float64\n",
            " 16  elevador_de_servico    38 non-null     float64\n",
            " 17  salao_de_festa         25 non-null     float64\n",
            " 18  iptu                   172 non-null    float64\n",
            " 19  lat                    126 non-null    float64\n",
            " 20  long                   126 non-null    float64\n",
            " 21  dist_centro            126 non-null    float64\n",
            "dtypes: float64(19), object(3)\n",
            "memory usage: 29.7+ KB\n"
          ]
        }
      ]
    },
    {
      "cell_type": "code",
      "source": [
        "housing[\"classe\"].value_counts()"
      ],
      "metadata": {
        "colab": {
          "base_uri": "https://localhost:8080/"
        },
        "id": "f9phj9-rO_Ir",
        "outputId": "5a8af44d-2e3e-48a6-fecf-dca1265fd9ff"
      },
      "execution_count": 75,
      "outputs": [
        {
          "output_type": "execute_result",
          "data": {
            "text/plain": [
              "Apartamento    118\n",
              "Casa            45\n",
              "Comercial        6\n",
              "Terreno          3\n",
              "Name: classe, dtype: int64"
            ]
          },
          "metadata": {},
          "execution_count": 75
        }
      ]
    },
    {
      "cell_type": "code",
      "source": [
        "housing.describe()"
      ],
      "metadata": {
        "colab": {
          "base_uri": "https://localhost:8080/",
          "height": 364
        },
        "id": "1Izw6RJmh-hp",
        "outputId": "9bcda603-dfa3-4719-a018-af180acf9a5a"
      },
      "execution_count": 76,
      "outputs": [
        {
          "output_type": "execute_result",
          "data": {
            "text/plain": [
              "              valor  dormitorios   banheiros  vagas_na_garagem  area_terreno  \\\n",
              "count  1.720000e+02   164.000000  168.000000        154.000000     58.000000   \n",
              "mean   5.196860e+05     2.579268    1.952381          1.701299   1382.055172   \n",
              "std    5.659085e+05     1.015129    1.251631          1.177845   7380.870697   \n",
              "min    1.000000e+05     1.000000    1.000000          1.000000     10.000000   \n",
              "25%    2.500000e+05     2.000000    1.000000          1.000000    250.000000   \n",
              "50%    3.500000e+05     2.000000    2.000000          1.000000    306.000000   \n",
              "75%    5.800000e+05     3.000000    2.000000          2.000000    496.500000   \n",
              "max    4.999999e+06    10.000000   10.000000          8.000000  56580.000000   \n",
              "\n",
              "        area_util   condominio     torres  portaria_hrs  elevador_social  \\\n",
              "count   83.000000   119.000000  83.000000     39.000000        59.000000   \n",
              "mean   112.767831   270.585462   2.277108     18.205128         1.084746   \n",
              "std    101.052242   202.900872   3.178868      7.086605         0.280894   \n",
              "min     10.000000     1.000000   1.000000      1.000000         1.000000   \n",
              "25%     60.000000   120.000000   1.000000     12.000000         1.000000   \n",
              "50%     82.000000   245.000000   1.000000     24.000000         1.000000   \n",
              "75%    120.500000   352.500000   1.500000     24.000000         1.000000   \n",
              "max    574.000000  1200.000000  19.000000     24.000000         2.000000   \n",
              "\n",
              "           suites  apartamento_por_andar  quantidade_de_andares  \\\n",
              "count  102.000000             103.000000             102.000000   \n",
              "mean     1.235294               3.252427               6.392157   \n",
              "std      0.691912               1.913412               4.088518   \n",
              "min      1.000000               1.000000               2.000000   \n",
              "25%      1.000000               2.000000               3.000000   \n",
              "50%      1.000000               3.000000               4.000000   \n",
              "75%      1.000000               4.000000              10.000000   \n",
              "max      5.000000              12.000000              17.000000   \n",
              "\n",
              "       elevador_de_servico  salao_de_festa         iptu         lat  \\\n",
              "count            38.000000            25.0   172.000000  126.000000   \n",
              "mean              1.026316             0.0   175.934012  -21.800490   \n",
              "std               0.162221             0.0   678.629161    0.024339   \n",
              "min               1.000000             0.0     1.000000  -21.857558   \n",
              "25%               1.000000             0.0    54.025000  -21.799574   \n",
              "50%               1.000000             0.0    80.625000  -21.790743   \n",
              "75%               1.000000             0.0   136.250000  -21.788380   \n",
              "max               2.000000             0.0  8000.000000  -21.702056   \n",
              "\n",
              "             long  dist_centro  \n",
              "count  126.000000   126.000000  \n",
              "mean   -46.564274     2.406169  \n",
              "std      0.020292     2.783096  \n",
              "min    -46.597623     0.000000  \n",
              "25%    -46.571666     0.000000  \n",
              "50%    -46.566182     1.034897  \n",
              "75%    -46.559694     3.326118  \n",
              "max    -46.476850    12.976763  "
            ],
            "text/html": [
              "\n",
              "  <div id=\"df-4ee307a2-49ec-416e-b33b-95839adb3a04\">\n",
              "    <div class=\"colab-df-container\">\n",
              "      <div>\n",
              "<style scoped>\n",
              "    .dataframe tbody tr th:only-of-type {\n",
              "        vertical-align: middle;\n",
              "    }\n",
              "\n",
              "    .dataframe tbody tr th {\n",
              "        vertical-align: top;\n",
              "    }\n",
              "\n",
              "    .dataframe thead th {\n",
              "        text-align: right;\n",
              "    }\n",
              "</style>\n",
              "<table border=\"1\" class=\"dataframe\">\n",
              "  <thead>\n",
              "    <tr style=\"text-align: right;\">\n",
              "      <th></th>\n",
              "      <th>valor</th>\n",
              "      <th>dormitorios</th>\n",
              "      <th>banheiros</th>\n",
              "      <th>vagas_na_garagem</th>\n",
              "      <th>area_terreno</th>\n",
              "      <th>area_util</th>\n",
              "      <th>condominio</th>\n",
              "      <th>torres</th>\n",
              "      <th>portaria_hrs</th>\n",
              "      <th>elevador_social</th>\n",
              "      <th>suites</th>\n",
              "      <th>apartamento_por_andar</th>\n",
              "      <th>quantidade_de_andares</th>\n",
              "      <th>elevador_de_servico</th>\n",
              "      <th>salao_de_festa</th>\n",
              "      <th>iptu</th>\n",
              "      <th>lat</th>\n",
              "      <th>long</th>\n",
              "      <th>dist_centro</th>\n",
              "    </tr>\n",
              "  </thead>\n",
              "  <tbody>\n",
              "    <tr>\n",
              "      <th>count</th>\n",
              "      <td>1.720000e+02</td>\n",
              "      <td>164.000000</td>\n",
              "      <td>168.000000</td>\n",
              "      <td>154.000000</td>\n",
              "      <td>58.000000</td>\n",
              "      <td>83.000000</td>\n",
              "      <td>119.000000</td>\n",
              "      <td>83.000000</td>\n",
              "      <td>39.000000</td>\n",
              "      <td>59.000000</td>\n",
              "      <td>102.000000</td>\n",
              "      <td>103.000000</td>\n",
              "      <td>102.000000</td>\n",
              "      <td>38.000000</td>\n",
              "      <td>25.0</td>\n",
              "      <td>172.000000</td>\n",
              "      <td>126.000000</td>\n",
              "      <td>126.000000</td>\n",
              "      <td>126.000000</td>\n",
              "    </tr>\n",
              "    <tr>\n",
              "      <th>mean</th>\n",
              "      <td>5.196860e+05</td>\n",
              "      <td>2.579268</td>\n",
              "      <td>1.952381</td>\n",
              "      <td>1.701299</td>\n",
              "      <td>1382.055172</td>\n",
              "      <td>112.767831</td>\n",
              "      <td>270.585462</td>\n",
              "      <td>2.277108</td>\n",
              "      <td>18.205128</td>\n",
              "      <td>1.084746</td>\n",
              "      <td>1.235294</td>\n",
              "      <td>3.252427</td>\n",
              "      <td>6.392157</td>\n",
              "      <td>1.026316</td>\n",
              "      <td>0.0</td>\n",
              "      <td>175.934012</td>\n",
              "      <td>-21.800490</td>\n",
              "      <td>-46.564274</td>\n",
              "      <td>2.406169</td>\n",
              "    </tr>\n",
              "    <tr>\n",
              "      <th>std</th>\n",
              "      <td>5.659085e+05</td>\n",
              "      <td>1.015129</td>\n",
              "      <td>1.251631</td>\n",
              "      <td>1.177845</td>\n",
              "      <td>7380.870697</td>\n",
              "      <td>101.052242</td>\n",
              "      <td>202.900872</td>\n",
              "      <td>3.178868</td>\n",
              "      <td>7.086605</td>\n",
              "      <td>0.280894</td>\n",
              "      <td>0.691912</td>\n",
              "      <td>1.913412</td>\n",
              "      <td>4.088518</td>\n",
              "      <td>0.162221</td>\n",
              "      <td>0.0</td>\n",
              "      <td>678.629161</td>\n",
              "      <td>0.024339</td>\n",
              "      <td>0.020292</td>\n",
              "      <td>2.783096</td>\n",
              "    </tr>\n",
              "    <tr>\n",
              "      <th>min</th>\n",
              "      <td>1.000000e+05</td>\n",
              "      <td>1.000000</td>\n",
              "      <td>1.000000</td>\n",
              "      <td>1.000000</td>\n",
              "      <td>10.000000</td>\n",
              "      <td>10.000000</td>\n",
              "      <td>1.000000</td>\n",
              "      <td>1.000000</td>\n",
              "      <td>1.000000</td>\n",
              "      <td>1.000000</td>\n",
              "      <td>1.000000</td>\n",
              "      <td>1.000000</td>\n",
              "      <td>2.000000</td>\n",
              "      <td>1.000000</td>\n",
              "      <td>0.0</td>\n",
              "      <td>1.000000</td>\n",
              "      <td>-21.857558</td>\n",
              "      <td>-46.597623</td>\n",
              "      <td>0.000000</td>\n",
              "    </tr>\n",
              "    <tr>\n",
              "      <th>25%</th>\n",
              "      <td>2.500000e+05</td>\n",
              "      <td>2.000000</td>\n",
              "      <td>1.000000</td>\n",
              "      <td>1.000000</td>\n",
              "      <td>250.000000</td>\n",
              "      <td>60.000000</td>\n",
              "      <td>120.000000</td>\n",
              "      <td>1.000000</td>\n",
              "      <td>12.000000</td>\n",
              "      <td>1.000000</td>\n",
              "      <td>1.000000</td>\n",
              "      <td>2.000000</td>\n",
              "      <td>3.000000</td>\n",
              "      <td>1.000000</td>\n",
              "      <td>0.0</td>\n",
              "      <td>54.025000</td>\n",
              "      <td>-21.799574</td>\n",
              "      <td>-46.571666</td>\n",
              "      <td>0.000000</td>\n",
              "    </tr>\n",
              "    <tr>\n",
              "      <th>50%</th>\n",
              "      <td>3.500000e+05</td>\n",
              "      <td>2.000000</td>\n",
              "      <td>2.000000</td>\n",
              "      <td>1.000000</td>\n",
              "      <td>306.000000</td>\n",
              "      <td>82.000000</td>\n",
              "      <td>245.000000</td>\n",
              "      <td>1.000000</td>\n",
              "      <td>24.000000</td>\n",
              "      <td>1.000000</td>\n",
              "      <td>1.000000</td>\n",
              "      <td>3.000000</td>\n",
              "      <td>4.000000</td>\n",
              "      <td>1.000000</td>\n",
              "      <td>0.0</td>\n",
              "      <td>80.625000</td>\n",
              "      <td>-21.790743</td>\n",
              "      <td>-46.566182</td>\n",
              "      <td>1.034897</td>\n",
              "    </tr>\n",
              "    <tr>\n",
              "      <th>75%</th>\n",
              "      <td>5.800000e+05</td>\n",
              "      <td>3.000000</td>\n",
              "      <td>2.000000</td>\n",
              "      <td>2.000000</td>\n",
              "      <td>496.500000</td>\n",
              "      <td>120.500000</td>\n",
              "      <td>352.500000</td>\n",
              "      <td>1.500000</td>\n",
              "      <td>24.000000</td>\n",
              "      <td>1.000000</td>\n",
              "      <td>1.000000</td>\n",
              "      <td>4.000000</td>\n",
              "      <td>10.000000</td>\n",
              "      <td>1.000000</td>\n",
              "      <td>0.0</td>\n",
              "      <td>136.250000</td>\n",
              "      <td>-21.788380</td>\n",
              "      <td>-46.559694</td>\n",
              "      <td>3.326118</td>\n",
              "    </tr>\n",
              "    <tr>\n",
              "      <th>max</th>\n",
              "      <td>4.999999e+06</td>\n",
              "      <td>10.000000</td>\n",
              "      <td>10.000000</td>\n",
              "      <td>8.000000</td>\n",
              "      <td>56580.000000</td>\n",
              "      <td>574.000000</td>\n",
              "      <td>1200.000000</td>\n",
              "      <td>19.000000</td>\n",
              "      <td>24.000000</td>\n",
              "      <td>2.000000</td>\n",
              "      <td>5.000000</td>\n",
              "      <td>12.000000</td>\n",
              "      <td>17.000000</td>\n",
              "      <td>2.000000</td>\n",
              "      <td>0.0</td>\n",
              "      <td>8000.000000</td>\n",
              "      <td>-21.702056</td>\n",
              "      <td>-46.476850</td>\n",
              "      <td>12.976763</td>\n",
              "    </tr>\n",
              "  </tbody>\n",
              "</table>\n",
              "</div>\n",
              "      <button class=\"colab-df-convert\" onclick=\"convertToInteractive('df-4ee307a2-49ec-416e-b33b-95839adb3a04')\"\n",
              "              title=\"Convert this dataframe to an interactive table.\"\n",
              "              style=\"display:none;\">\n",
              "        \n",
              "  <svg xmlns=\"http://www.w3.org/2000/svg\" height=\"24px\"viewBox=\"0 0 24 24\"\n",
              "       width=\"24px\">\n",
              "    <path d=\"M0 0h24v24H0V0z\" fill=\"none\"/>\n",
              "    <path d=\"M18.56 5.44l.94 2.06.94-2.06 2.06-.94-2.06-.94-.94-2.06-.94 2.06-2.06.94zm-11 1L8.5 8.5l.94-2.06 2.06-.94-2.06-.94L8.5 2.5l-.94 2.06-2.06.94zm10 10l.94 2.06.94-2.06 2.06-.94-2.06-.94-.94-2.06-.94 2.06-2.06.94z\"/><path d=\"M17.41 7.96l-1.37-1.37c-.4-.4-.92-.59-1.43-.59-.52 0-1.04.2-1.43.59L10.3 9.45l-7.72 7.72c-.78.78-.78 2.05 0 2.83L4 21.41c.39.39.9.59 1.41.59.51 0 1.02-.2 1.41-.59l7.78-7.78 2.81-2.81c.8-.78.8-2.07 0-2.86zM5.41 20L4 18.59l7.72-7.72 1.47 1.35L5.41 20z\"/>\n",
              "  </svg>\n",
              "      </button>\n",
              "      \n",
              "  <style>\n",
              "    .colab-df-container {\n",
              "      display:flex;\n",
              "      flex-wrap:wrap;\n",
              "      gap: 12px;\n",
              "    }\n",
              "\n",
              "    .colab-df-convert {\n",
              "      background-color: #E8F0FE;\n",
              "      border: none;\n",
              "      border-radius: 50%;\n",
              "      cursor: pointer;\n",
              "      display: none;\n",
              "      fill: #1967D2;\n",
              "      height: 32px;\n",
              "      padding: 0 0 0 0;\n",
              "      width: 32px;\n",
              "    }\n",
              "\n",
              "    .colab-df-convert:hover {\n",
              "      background-color: #E2EBFA;\n",
              "      box-shadow: 0px 1px 2px rgba(60, 64, 67, 0.3), 0px 1px 3px 1px rgba(60, 64, 67, 0.15);\n",
              "      fill: #174EA6;\n",
              "    }\n",
              "\n",
              "    [theme=dark] .colab-df-convert {\n",
              "      background-color: #3B4455;\n",
              "      fill: #D2E3FC;\n",
              "    }\n",
              "\n",
              "    [theme=dark] .colab-df-convert:hover {\n",
              "      background-color: #434B5C;\n",
              "      box-shadow: 0px 1px 3px 1px rgba(0, 0, 0, 0.15);\n",
              "      filter: drop-shadow(0px 1px 2px rgba(0, 0, 0, 0.3));\n",
              "      fill: #FFFFFF;\n",
              "    }\n",
              "  </style>\n",
              "\n",
              "      <script>\n",
              "        const buttonEl =\n",
              "          document.querySelector('#df-4ee307a2-49ec-416e-b33b-95839adb3a04 button.colab-df-convert');\n",
              "        buttonEl.style.display =\n",
              "          google.colab.kernel.accessAllowed ? 'block' : 'none';\n",
              "\n",
              "        async function convertToInteractive(key) {\n",
              "          const element = document.querySelector('#df-4ee307a2-49ec-416e-b33b-95839adb3a04');\n",
              "          const dataTable =\n",
              "            await google.colab.kernel.invokeFunction('convertToInteractive',\n",
              "                                                     [key], {});\n",
              "          if (!dataTable) return;\n",
              "\n",
              "          const docLinkHtml = 'Like what you see? Visit the ' +\n",
              "            '<a target=\"_blank\" href=https://colab.research.google.com/notebooks/data_table.ipynb>data table notebook</a>'\n",
              "            + ' to learn more about interactive tables.';\n",
              "          element.innerHTML = '';\n",
              "          dataTable['output_type'] = 'display_data';\n",
              "          await google.colab.output.renderOutput(dataTable, element);\n",
              "          const docLink = document.createElement('div');\n",
              "          docLink.innerHTML = docLinkHtml;\n",
              "          element.appendChild(docLink);\n",
              "        }\n",
              "      </script>\n",
              "    </div>\n",
              "  </div>\n",
              "  "
            ]
          },
          "metadata": {},
          "execution_count": 76
        }
      ]
    },
    {
      "cell_type": "code",
      "source": [
        "import matplotlib.pyplot as plt\n",
        "housing.hist(bins=50, figsize=(20,15))\n",
        "plt.show()"
      ],
      "metadata": {
        "colab": {
          "base_uri": "https://localhost:8080/",
          "height": 723
        },
        "id": "JYSx8aQUiez_",
        "outputId": "b38986a3-c83f-4a7d-8543-58e5125aec09"
      },
      "execution_count": 77,
      "outputs": [
        {
          "output_type": "display_data",
          "data": {
            "text/plain": [
              "<Figure size 1440x1080 with 20 Axes>"
            ],
            "image/png": "[encoded data removed]"
          },
          "metadata": {
            "needs_background": "light"
          }
        }
      ]
    },
    {
      "cell_type": "code",
      "source": [
        "import numpy as np\n",
        "def split_train_test(data, test_ratio):\n",
        " shuffled_indices = np.random.permutation(len(data))\n",
        " test_set_size = int(len(data) * test_ratio)\n",
        " test_indices = shuffled_indices[:test_set_size]\n",
        " train_indices = shuffled_indices[test_set_size:]\n",
        " return data.iloc[train_indices], data.iloc[test_indices]"
      ],
      "metadata": {
        "id": "AWnVFx5avDn3"
      },
      "execution_count": 78,
      "outputs": []
    },
    {
      "cell_type": "code",
      "source": [
        "train_set, test_set = split_train_test(housing, 0.2)"
      ],
      "metadata": {
        "id": "GwPni4IMy3UY"
      },
      "execution_count": 79,
      "outputs": []
    },
    {
      "cell_type": "code",
      "source": [
        "len(train_set)"
      ],
      "metadata": {
        "colab": {
          "base_uri": "https://localhost:8080/"
        },
        "id": "2MS6tJSKy_V1",
        "outputId": "33188925-55f8-4fdc-f865-2eb591467762"
      },
      "execution_count": 80,
      "outputs": [
        {
          "output_type": "execute_result",
          "data": {
            "text/plain": [
              "138"
            ]
          },
          "metadata": {},
          "execution_count": 80
        }
      ]
    },
    {
      "cell_type": "code",
      "source": [
        "len(test_set)"
      ],
      "metadata": {
        "colab": {
          "base_uri": "https://localhost:8080/"
        },
        "id": "6cN_YV8XzDKB",
        "outputId": "6aa36125-4721-4050-f2c7-c544a7a4d779"
      },
      "execution_count": 81,
      "outputs": [
        {
          "output_type": "execute_result",
          "data": {
            "text/plain": [
              "34"
            ]
          },
          "metadata": {},
          "execution_count": 81
        }
      ]
    },
    {
      "cell_type": "code",
      "source": [
        "from sklearn.model_selection import train_test_split\n",
        "train_set, test_set = train_test_split(housing, test_size=0.2, random_state=42)"
      ],
      "metadata": {
        "id": "SP0LyVo59uJL"
      },
      "execution_count": 82,
      "outputs": []
    },
    {
      "cell_type": "code",
      "source": [
        "len(train_set)"
      ],
      "metadata": {
        "colab": {
          "base_uri": "https://localhost:8080/"
        },
        "id": "k4mARWrAHzqG",
        "outputId": "e298daa1-0299-4c09-af9c-99c0a71ed2fb"
      },
      "execution_count": 83,
      "outputs": [
        {
          "output_type": "execute_result",
          "data": {
            "text/plain": [
              "137"
            ]
          },
          "metadata": {},
          "execution_count": 83
        }
      ]
    },
    {
      "cell_type": "code",
      "source": [
        "len(test_set)"
      ],
      "metadata": {
        "colab": {
          "base_uri": "https://localhost:8080/"
        },
        "id": "lnu7tnfDH2hH",
        "outputId": "45072b75-ba40-403b-ed3c-662204da5612"
      },
      "execution_count": 84,
      "outputs": [
        {
          "output_type": "execute_result",
          "data": {
            "text/plain": [
              "35"
            ]
          },
          "metadata": {},
          "execution_count": 84
        }
      ]
    },
    {
      "cell_type": "code",
      "source": [
        "corr_matrix = housing.corr()\n",
        "corr_matrix[\"valor\"].sort_values(ascending=False)"
      ],
      "metadata": {
        "colab": {
          "base_uri": "https://localhost:8080/"
        },
        "id": "JtKHx5BOJL5r",
        "outputId": "0af7bb01-854a-4be3-9641-efac39674dcd"
      },
      "execution_count": 85,
      "outputs": [
        {
          "output_type": "execute_result",
          "data": {
            "text/plain": [
              "valor                    1.000000\n",
              "area_util                0.870219\n",
              "banheiros                0.758850\n",
              "vagas_na_garagem         0.745676\n",
              "condominio               0.729820\n",
              "dormitorios              0.719335\n",
              "iptu                     0.708666\n",
              "area_terreno             0.676544\n",
              "suites                   0.644262\n",
              "quantidade_de_andares    0.597944\n",
              "portaria_hrs             0.195412\n",
              "elevador_de_servico      0.127911\n",
              "lat                      0.095188\n",
              "elevador_social          0.074186\n",
              "long                    -0.011442\n",
              "dist_centro             -0.157789\n",
              "apartamento_por_andar   -0.177865\n",
              "torres                  -0.235713\n",
              "salao_de_festa                NaN\n",
              "Name: valor, dtype: float64"
            ]
          },
          "metadata": {},
          "execution_count": 85
        }
      ]
    },
    {
      "cell_type": "code",
      "source": [
        "housing[\"income_cat\"] = pd.cut(housing[\"iptu\"],\n",
        " bins=[0., 54.025000, 80.625000, 136.250000, 8000.000000, np.inf],\n",
        " labels=[1, 2, 3, 4, 5])\n",
        "housing[\"income_cat\"].hist()\n",
        "\n"
      ],
      "metadata": {
        "colab": {
          "base_uri": "https://localhost:8080/",
          "height": 282
        },
        "id": "Qo_lURY7ChAr",
        "outputId": "6560e49e-a68d-4292-9dd3-6c5f94be5fa9"
      },
      "execution_count": 91,
      "outputs": [
        {
          "output_type": "execute_result",
          "data": {
            "text/plain": [
              "<matplotlib.axes._subplots.AxesSubplot at 0x7f0c9441c0a0>"
            ]
          },
          "metadata": {},
          "execution_count": 91
        },
        {
          "output_type": "display_data",
          "data": {
            "text/plain": [
              "<Figure size 432x288 with 1 Axes>"
            ],
            "image/png": "[encoded data removed]"
          },
          "metadata": {
            "needs_background": "light"
          }
        }
      ]
    },
    {
      "cell_type": "code",
      "source": [],
      "metadata": {
        "id": "g3cpyQWPX8CZ"
      },
      "execution_count": 86,
      "outputs": []
    },
    {
      "cell_type": "code",
      "source": [
        "import itertools\n",
        "import pandas as pd\n",
        "from datetime import datetime\n",
        "\n",
        "dt = datetime.now()\n",
        "housing.to_csv(str(dt)+'.csv')"
      ],
      "metadata": {
        "id": "g9O0WAmuYY9W"
      },
      "execution_count": 87,
      "outputs": []
    },
    {
      "cell_type": "code",
      "source": [
        "from sklearn.model_selection import StratifiedShuffleSplit\n",
        "split = StratifiedShuffleSplit(n_splits=1, test_size=0.2, random_state=42)\n",
        "for train_index, test_index in split.split(housing, housing[\"income_cat\"]):\n",
        " strat_train_set = housing.loc[train_index]\n",
        " strat_test_set = housing.loc[test_index]\n"
      ],
      "metadata": {
        "id": "7s17G1UEDUCa"
      },
      "execution_count": 88,
      "outputs": []
    },
    {
      "cell_type": "code",
      "source": [
        "strat_test_set[\"income_cat\"].value_counts() / len(strat_test_set)"
      ],
      "metadata": {
        "colab": {
          "base_uri": "https://localhost:8080/"
        },
        "id": "Ep0w0kuCvKaC",
        "outputId": "4f1dea36-598b-4243-84db-ae42367e1430"
      },
      "execution_count": 89,
      "outputs": [
        {
          "output_type": "execute_result",
          "data": {
            "text/plain": [
              "1    0.257143\n",
              "3    0.257143\n",
              "4    0.257143\n",
              "2    0.228571\n",
              "5    0.000000\n",
              "Name: income_cat, dtype: float64"
            ]
          },
          "metadata": {},
          "execution_count": 89
        }
      ]
    }
  ]
}